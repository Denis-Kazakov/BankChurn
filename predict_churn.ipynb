{
 "cells": [
  {
   "cell_type": "code",
   "execution_count": 1,
   "id": "15e45864",
   "metadata": {},
   "outputs": [],
   "source": [
    "import pandas as pd\n",
    "import numpy as np\n",
    "from sklearn.model_selection import train_test_split\n",
    "from sklearn.model_selection import GridSearchCV\n",
    "from sklearn import metrics"
   ]
  },
  {
   "cell_type": "markdown",
   "id": "b7c9eedb",
   "metadata": {},
   "source": [
    "# First attempt at model selection without data on client job positions"
   ]
  },
  {
   "cell_type": "code",
   "execution_count": 2,
   "id": "60686d04",
   "metadata": {
    "scrolled": true
   },
   "outputs": [
    {
     "data": {
      "text/html": [
       "<div>\n",
       "<style scoped>\n",
       "    .dataframe tbody tr th:only-of-type {\n",
       "        vertical-align: middle;\n",
       "    }\n",
       "\n",
       "    .dataframe tbody tr th {\n",
       "        vertical-align: top;\n",
       "    }\n",
       "\n",
       "    .dataframe thead th {\n",
       "        text-align: right;\n",
       "    }\n",
       "</style>\n",
       "<table border=\"1\" class=\"dataframe\">\n",
       "  <thead>\n",
       "    <tr style=\"text-align: right;\">\n",
       "      <th></th>\n",
       "      <th>CR_PROD_CNT_IL</th>\n",
       "      <th>AMOUNT_RUB_CLO_PRC</th>\n",
       "      <th>TURNOVER_DYNAMIC_IL_1M</th>\n",
       "      <th>AMOUNT_RUB_SUP_PRC</th>\n",
       "      <th>REST_DYNAMIC_FDEP_1M</th>\n",
       "      <th>REST_DYNAMIC_SAVE_3M</th>\n",
       "      <th>CR_PROD_CNT_VCU</th>\n",
       "      <th>REST_AVG_CUR</th>\n",
       "      <th>AMOUNT_RUB_NAS_PRC</th>\n",
       "      <th>TRANS_COUNT_SUP_PRC</th>\n",
       "      <th>...</th>\n",
       "      <th>PACK_103</th>\n",
       "      <th>PACK_104</th>\n",
       "      <th>PACK_105</th>\n",
       "      <th>PACK_107</th>\n",
       "      <th>PACK_108</th>\n",
       "      <th>PACK_109</th>\n",
       "      <th>PACK_301</th>\n",
       "      <th>PACK_k01</th>\n",
       "      <th>PACK_m01</th>\n",
       "      <th>PACK_o01</th>\n",
       "    </tr>\n",
       "    <tr>\n",
       "      <th>ID</th>\n",
       "      <th></th>\n",
       "      <th></th>\n",
       "      <th></th>\n",
       "      <th></th>\n",
       "      <th></th>\n",
       "      <th></th>\n",
       "      <th></th>\n",
       "      <th></th>\n",
       "      <th></th>\n",
       "      <th></th>\n",
       "      <th></th>\n",
       "      <th></th>\n",
       "      <th></th>\n",
       "      <th></th>\n",
       "      <th></th>\n",
       "      <th></th>\n",
       "      <th></th>\n",
       "      <th></th>\n",
       "      <th></th>\n",
       "      <th></th>\n",
       "      <th></th>\n",
       "    </tr>\n",
       "  </thead>\n",
       "  <tbody>\n",
       "    <tr>\n",
       "      <th>146841</th>\n",
       "      <td>-0.243932</td>\n",
       "      <td>-0.380232</td>\n",
       "      <td>-0.044824</td>\n",
       "      <td>-0.582347</td>\n",
       "      <td>-0.05133</td>\n",
       "      <td>2.356500</td>\n",
       "      <td>-0.169589</td>\n",
       "      <td>0.477531</td>\n",
       "      <td>-0.248485</td>\n",
       "      <td>-1.004598</td>\n",
       "      <td>...</td>\n",
       "      <td>0</td>\n",
       "      <td>0</td>\n",
       "      <td>0</td>\n",
       "      <td>0</td>\n",
       "      <td>0</td>\n",
       "      <td>0</td>\n",
       "      <td>0</td>\n",
       "      <td>1</td>\n",
       "      <td>0</td>\n",
       "      <td>0</td>\n",
       "    </tr>\n",
       "    <tr>\n",
       "      <th>146842</th>\n",
       "      <td>-0.243932</td>\n",
       "      <td>0.016835</td>\n",
       "      <td>-0.044824</td>\n",
       "      <td>1.221828</td>\n",
       "      <td>-0.05133</td>\n",
       "      <td>-0.312371</td>\n",
       "      <td>-0.169589</td>\n",
       "      <td>-0.330458</td>\n",
       "      <td>-0.248485</td>\n",
       "      <td>1.446347</td>\n",
       "      <td>...</td>\n",
       "      <td>0</td>\n",
       "      <td>0</td>\n",
       "      <td>0</td>\n",
       "      <td>0</td>\n",
       "      <td>0</td>\n",
       "      <td>0</td>\n",
       "      <td>0</td>\n",
       "      <td>0</td>\n",
       "      <td>0</td>\n",
       "      <td>0</td>\n",
       "    </tr>\n",
       "    <tr>\n",
       "      <th>146843</th>\n",
       "      <td>-0.243932</td>\n",
       "      <td>-0.313313</td>\n",
       "      <td>-0.044824</td>\n",
       "      <td>-0.582347</td>\n",
       "      <td>-0.05133</td>\n",
       "      <td>-0.312371</td>\n",
       "      <td>-0.169589</td>\n",
       "      <td>0.247411</td>\n",
       "      <td>-0.248485</td>\n",
       "      <td>-1.004598</td>\n",
       "      <td>...</td>\n",
       "      <td>0</td>\n",
       "      <td>0</td>\n",
       "      <td>0</td>\n",
       "      <td>0</td>\n",
       "      <td>0</td>\n",
       "      <td>0</td>\n",
       "      <td>0</td>\n",
       "      <td>0</td>\n",
       "      <td>0</td>\n",
       "      <td>0</td>\n",
       "    </tr>\n",
       "    <tr>\n",
       "      <th>146844</th>\n",
       "      <td>-0.243932</td>\n",
       "      <td>-0.380232</td>\n",
       "      <td>-0.044824</td>\n",
       "      <td>-0.582347</td>\n",
       "      <td>-0.05133</td>\n",
       "      <td>-0.283428</td>\n",
       "      <td>-0.169589</td>\n",
       "      <td>-0.124857</td>\n",
       "      <td>-0.248485</td>\n",
       "      <td>-1.004598</td>\n",
       "      <td>...</td>\n",
       "      <td>0</td>\n",
       "      <td>0</td>\n",
       "      <td>0</td>\n",
       "      <td>0</td>\n",
       "      <td>0</td>\n",
       "      <td>0</td>\n",
       "      <td>0</td>\n",
       "      <td>1</td>\n",
       "      <td>0</td>\n",
       "      <td>0</td>\n",
       "    </tr>\n",
       "    <tr>\n",
       "      <th>146845</th>\n",
       "      <td>-0.243932</td>\n",
       "      <td>-0.380232</td>\n",
       "      <td>-0.044824</td>\n",
       "      <td>-0.582347</td>\n",
       "      <td>-0.05133</td>\n",
       "      <td>-0.312371</td>\n",
       "      <td>-0.169589</td>\n",
       "      <td>0.029532</td>\n",
       "      <td>-0.248485</td>\n",
       "      <td>-1.004598</td>\n",
       "      <td>...</td>\n",
       "      <td>0</td>\n",
       "      <td>0</td>\n",
       "      <td>0</td>\n",
       "      <td>0</td>\n",
       "      <td>0</td>\n",
       "      <td>0</td>\n",
       "      <td>0</td>\n",
       "      <td>0</td>\n",
       "      <td>0</td>\n",
       "      <td>0</td>\n",
       "    </tr>\n",
       "    <tr>\n",
       "      <th>...</th>\n",
       "      <td>...</td>\n",
       "      <td>...</td>\n",
       "      <td>...</td>\n",
       "      <td>...</td>\n",
       "      <td>...</td>\n",
       "      <td>...</td>\n",
       "      <td>...</td>\n",
       "      <td>...</td>\n",
       "      <td>...</td>\n",
       "      <td>...</td>\n",
       "      <td>...</td>\n",
       "      <td>...</td>\n",
       "      <td>...</td>\n",
       "      <td>...</td>\n",
       "      <td>...</td>\n",
       "      <td>...</td>\n",
       "      <td>...</td>\n",
       "      <td>...</td>\n",
       "      <td>...</td>\n",
       "      <td>...</td>\n",
       "      <td>...</td>\n",
       "    </tr>\n",
       "    <tr>\n",
       "      <th>590822</th>\n",
       "      <td>-0.243932</td>\n",
       "      <td>-0.380232</td>\n",
       "      <td>-0.044824</td>\n",
       "      <td>-0.582347</td>\n",
       "      <td>-0.05133</td>\n",
       "      <td>-0.312371</td>\n",
       "      <td>-0.169589</td>\n",
       "      <td>-0.301613</td>\n",
       "      <td>-0.248485</td>\n",
       "      <td>-1.004598</td>\n",
       "      <td>...</td>\n",
       "      <td>0</td>\n",
       "      <td>1</td>\n",
       "      <td>0</td>\n",
       "      <td>0</td>\n",
       "      <td>0</td>\n",
       "      <td>0</td>\n",
       "      <td>0</td>\n",
       "      <td>0</td>\n",
       "      <td>0</td>\n",
       "      <td>0</td>\n",
       "    </tr>\n",
       "    <tr>\n",
       "      <th>590823</th>\n",
       "      <td>-0.243932</td>\n",
       "      <td>-0.380232</td>\n",
       "      <td>-0.044824</td>\n",
       "      <td>-0.582347</td>\n",
       "      <td>-0.05133</td>\n",
       "      <td>-0.312371</td>\n",
       "      <td>-0.169589</td>\n",
       "      <td>1.927086</td>\n",
       "      <td>2.804227</td>\n",
       "      <td>-1.004598</td>\n",
       "      <td>...</td>\n",
       "      <td>0</td>\n",
       "      <td>1</td>\n",
       "      <td>0</td>\n",
       "      <td>0</td>\n",
       "      <td>0</td>\n",
       "      <td>0</td>\n",
       "      <td>0</td>\n",
       "      <td>0</td>\n",
       "      <td>0</td>\n",
       "      <td>0</td>\n",
       "    </tr>\n",
       "    <tr>\n",
       "      <th>590825</th>\n",
       "      <td>-0.243932</td>\n",
       "      <td>0.019401</td>\n",
       "      <td>-0.044824</td>\n",
       "      <td>0.119528</td>\n",
       "      <td>-0.05133</td>\n",
       "      <td>-0.312371</td>\n",
       "      <td>-0.169589</td>\n",
       "      <td>0.843853</td>\n",
       "      <td>0.113815</td>\n",
       "      <td>0.135764</td>\n",
       "      <td>...</td>\n",
       "      <td>0</td>\n",
       "      <td>0</td>\n",
       "      <td>0</td>\n",
       "      <td>0</td>\n",
       "      <td>0</td>\n",
       "      <td>0</td>\n",
       "      <td>0</td>\n",
       "      <td>1</td>\n",
       "      <td>0</td>\n",
       "      <td>0</td>\n",
       "    </tr>\n",
       "    <tr>\n",
       "      <th>590826</th>\n",
       "      <td>-0.243932</td>\n",
       "      <td>-0.380232</td>\n",
       "      <td>-0.044824</td>\n",
       "      <td>-0.582347</td>\n",
       "      <td>-0.05133</td>\n",
       "      <td>-0.312371</td>\n",
       "      <td>-0.169589</td>\n",
       "      <td>-0.288932</td>\n",
       "      <td>3.034981</td>\n",
       "      <td>-1.004598</td>\n",
       "      <td>...</td>\n",
       "      <td>0</td>\n",
       "      <td>0</td>\n",
       "      <td>0</td>\n",
       "      <td>0</td>\n",
       "      <td>0</td>\n",
       "      <td>0</td>\n",
       "      <td>0</td>\n",
       "      <td>0</td>\n",
       "      <td>0</td>\n",
       "      <td>1</td>\n",
       "    </tr>\n",
       "    <tr>\n",
       "      <th>590828</th>\n",
       "      <td>-0.243932</td>\n",
       "      <td>-0.380232</td>\n",
       "      <td>-0.044824</td>\n",
       "      <td>-0.582347</td>\n",
       "      <td>-0.05133</td>\n",
       "      <td>-0.294876</td>\n",
       "      <td>-0.169589</td>\n",
       "      <td>-0.292957</td>\n",
       "      <td>-0.248485</td>\n",
       "      <td>-1.004598</td>\n",
       "      <td>...</td>\n",
       "      <td>0</td>\n",
       "      <td>0</td>\n",
       "      <td>0</td>\n",
       "      <td>0</td>\n",
       "      <td>0</td>\n",
       "      <td>0</td>\n",
       "      <td>0</td>\n",
       "      <td>1</td>\n",
       "      <td>0</td>\n",
       "      <td>0</td>\n",
       "    </tr>\n",
       "  </tbody>\n",
       "</table>\n",
       "<p>355190 rows × 234 columns</p>\n",
       "</div>"
      ],
      "text/plain": [
       "        CR_PROD_CNT_IL  AMOUNT_RUB_CLO_PRC  TURNOVER_DYNAMIC_IL_1M  \\\n",
       "ID                                                                   \n",
       "146841       -0.243932           -0.380232               -0.044824   \n",
       "146842       -0.243932            0.016835               -0.044824   \n",
       "146843       -0.243932           -0.313313               -0.044824   \n",
       "146844       -0.243932           -0.380232               -0.044824   \n",
       "146845       -0.243932           -0.380232               -0.044824   \n",
       "...                ...                 ...                     ...   \n",
       "590822       -0.243932           -0.380232               -0.044824   \n",
       "590823       -0.243932           -0.380232               -0.044824   \n",
       "590825       -0.243932            0.019401               -0.044824   \n",
       "590826       -0.243932           -0.380232               -0.044824   \n",
       "590828       -0.243932           -0.380232               -0.044824   \n",
       "\n",
       "        AMOUNT_RUB_SUP_PRC  REST_DYNAMIC_FDEP_1M  REST_DYNAMIC_SAVE_3M  \\\n",
       "ID                                                                       \n",
       "146841           -0.582347              -0.05133              2.356500   \n",
       "146842            1.221828              -0.05133             -0.312371   \n",
       "146843           -0.582347              -0.05133             -0.312371   \n",
       "146844           -0.582347              -0.05133             -0.283428   \n",
       "146845           -0.582347              -0.05133             -0.312371   \n",
       "...                    ...                   ...                   ...   \n",
       "590822           -0.582347              -0.05133             -0.312371   \n",
       "590823           -0.582347              -0.05133             -0.312371   \n",
       "590825            0.119528              -0.05133             -0.312371   \n",
       "590826           -0.582347              -0.05133             -0.312371   \n",
       "590828           -0.582347              -0.05133             -0.294876   \n",
       "\n",
       "        CR_PROD_CNT_VCU  REST_AVG_CUR  AMOUNT_RUB_NAS_PRC  \\\n",
       "ID                                                          \n",
       "146841        -0.169589      0.477531           -0.248485   \n",
       "146842        -0.169589     -0.330458           -0.248485   \n",
       "146843        -0.169589      0.247411           -0.248485   \n",
       "146844        -0.169589     -0.124857           -0.248485   \n",
       "146845        -0.169589      0.029532           -0.248485   \n",
       "...                 ...           ...                 ...   \n",
       "590822        -0.169589     -0.301613           -0.248485   \n",
       "590823        -0.169589      1.927086            2.804227   \n",
       "590825        -0.169589      0.843853            0.113815   \n",
       "590826        -0.169589     -0.288932            3.034981   \n",
       "590828        -0.169589     -0.292957           -0.248485   \n",
       "\n",
       "        TRANS_COUNT_SUP_PRC  ...  PACK_103  PACK_104  PACK_105  PACK_107  \\\n",
       "ID                           ...                                           \n",
       "146841            -1.004598  ...         0         0         0         0   \n",
       "146842             1.446347  ...         0         0         0         0   \n",
       "146843            -1.004598  ...         0         0         0         0   \n",
       "146844            -1.004598  ...         0         0         0         0   \n",
       "146845            -1.004598  ...         0         0         0         0   \n",
       "...                     ...  ...       ...       ...       ...       ...   \n",
       "590822            -1.004598  ...         0         1         0         0   \n",
       "590823            -1.004598  ...         0         1         0         0   \n",
       "590825             0.135764  ...         0         0         0         0   \n",
       "590826            -1.004598  ...         0         0         0         0   \n",
       "590828            -1.004598  ...         0         0         0         0   \n",
       "\n",
       "        PACK_108  PACK_109  PACK_301  PACK_k01  PACK_m01  PACK_o01  \n",
       "ID                                                                  \n",
       "146841         0         0         0         1         0         0  \n",
       "146842         0         0         0         0         0         0  \n",
       "146843         0         0         0         0         0         0  \n",
       "146844         0         0         0         1         0         0  \n",
       "146845         0         0         0         0         0         0  \n",
       "...          ...       ...       ...       ...       ...       ...  \n",
       "590822         0         0         0         0         0         0  \n",
       "590823         0         0         0         0         0         0  \n",
       "590825         0         0         0         1         0         0  \n",
       "590826         0         0         0         0         0         1  \n",
       "590828         0         0         0         1         0         0  \n",
       "\n",
       "[355190 rows x 234 columns]"
      ]
     },
     "execution_count": 2,
     "metadata": {},
     "output_type": "execute_result"
    }
   ],
   "source": [
    "df = pd.read_csv('bank_data_without_jobs.csv',\n",
    "                index_col='ID')\n",
    "df"
   ]
  },
  {
   "cell_type": "code",
   "execution_count": 4,
   "id": "bcd61724",
   "metadata": {},
   "outputs": [
    {
     "data": {
      "text/plain": [
       "0    0.918565\n",
       "1    0.081435\n",
       "Name: TARGET, dtype: float64"
      ]
     },
     "execution_count": 4,
     "metadata": {},
     "output_type": "execute_result"
    }
   ],
   "source": [
    "df.TARGET.value_counts(normalize=True)"
   ]
  },
  {
   "cell_type": "markdown",
   "id": "ed8a5536",
   "metadata": {},
   "source": [
    "Classes are imbalanced. It is important to identify items from class 1."
   ]
  },
  {
   "cell_type": "code",
   "execution_count": 3,
   "id": "fd566c10",
   "metadata": {},
   "outputs": [
    {
     "data": {
      "text/html": [
       "<div>\n",
       "<style scoped>\n",
       "    .dataframe tbody tr th:only-of-type {\n",
       "        vertical-align: middle;\n",
       "    }\n",
       "\n",
       "    .dataframe tbody tr th {\n",
       "        vertical-align: top;\n",
       "    }\n",
       "\n",
       "    .dataframe thead th {\n",
       "        text-align: right;\n",
       "    }\n",
       "</style>\n",
       "<table border=\"1\" class=\"dataframe\">\n",
       "  <thead>\n",
       "    <tr style=\"text-align: right;\">\n",
       "      <th></th>\n",
       "      <th>CR_PROD_CNT_IL</th>\n",
       "      <th>AMOUNT_RUB_CLO_PRC</th>\n",
       "      <th>TURNOVER_DYNAMIC_IL_1M</th>\n",
       "      <th>AMOUNT_RUB_SUP_PRC</th>\n",
       "      <th>REST_DYNAMIC_FDEP_1M</th>\n",
       "      <th>REST_DYNAMIC_SAVE_3M</th>\n",
       "      <th>CR_PROD_CNT_VCU</th>\n",
       "      <th>REST_AVG_CUR</th>\n",
       "      <th>AMOUNT_RUB_NAS_PRC</th>\n",
       "      <th>TRANS_COUNT_SUP_PRC</th>\n",
       "      <th>...</th>\n",
       "      <th>PACK_103</th>\n",
       "      <th>PACK_104</th>\n",
       "      <th>PACK_105</th>\n",
       "      <th>PACK_107</th>\n",
       "      <th>PACK_108</th>\n",
       "      <th>PACK_109</th>\n",
       "      <th>PACK_301</th>\n",
       "      <th>PACK_k01</th>\n",
       "      <th>PACK_m01</th>\n",
       "      <th>PACK_o01</th>\n",
       "    </tr>\n",
       "    <tr>\n",
       "      <th>ID</th>\n",
       "      <th></th>\n",
       "      <th></th>\n",
       "      <th></th>\n",
       "      <th></th>\n",
       "      <th></th>\n",
       "      <th></th>\n",
       "      <th></th>\n",
       "      <th></th>\n",
       "      <th></th>\n",
       "      <th></th>\n",
       "      <th></th>\n",
       "      <th></th>\n",
       "      <th></th>\n",
       "      <th></th>\n",
       "      <th></th>\n",
       "      <th></th>\n",
       "      <th></th>\n",
       "      <th></th>\n",
       "      <th></th>\n",
       "      <th></th>\n",
       "      <th></th>\n",
       "    </tr>\n",
       "  </thead>\n",
       "  <tbody>\n",
       "    <tr>\n",
       "      <th>146841</th>\n",
       "      <td>-0.243932</td>\n",
       "      <td>-0.380232</td>\n",
       "      <td>-0.044824</td>\n",
       "      <td>-0.582347</td>\n",
       "      <td>-0.05133</td>\n",
       "      <td>2.356500</td>\n",
       "      <td>-0.169589</td>\n",
       "      <td>0.477531</td>\n",
       "      <td>-0.248485</td>\n",
       "      <td>-1.004598</td>\n",
       "      <td>...</td>\n",
       "      <td>0</td>\n",
       "      <td>0</td>\n",
       "      <td>0</td>\n",
       "      <td>0</td>\n",
       "      <td>0</td>\n",
       "      <td>0</td>\n",
       "      <td>0</td>\n",
       "      <td>1</td>\n",
       "      <td>0</td>\n",
       "      <td>0</td>\n",
       "    </tr>\n",
       "    <tr>\n",
       "      <th>146842</th>\n",
       "      <td>-0.243932</td>\n",
       "      <td>0.016835</td>\n",
       "      <td>-0.044824</td>\n",
       "      <td>1.221828</td>\n",
       "      <td>-0.05133</td>\n",
       "      <td>-0.312371</td>\n",
       "      <td>-0.169589</td>\n",
       "      <td>-0.330458</td>\n",
       "      <td>-0.248485</td>\n",
       "      <td>1.446347</td>\n",
       "      <td>...</td>\n",
       "      <td>0</td>\n",
       "      <td>0</td>\n",
       "      <td>0</td>\n",
       "      <td>0</td>\n",
       "      <td>0</td>\n",
       "      <td>0</td>\n",
       "      <td>0</td>\n",
       "      <td>0</td>\n",
       "      <td>0</td>\n",
       "      <td>0</td>\n",
       "    </tr>\n",
       "    <tr>\n",
       "      <th>146843</th>\n",
       "      <td>-0.243932</td>\n",
       "      <td>-0.313313</td>\n",
       "      <td>-0.044824</td>\n",
       "      <td>-0.582347</td>\n",
       "      <td>-0.05133</td>\n",
       "      <td>-0.312371</td>\n",
       "      <td>-0.169589</td>\n",
       "      <td>0.247411</td>\n",
       "      <td>-0.248485</td>\n",
       "      <td>-1.004598</td>\n",
       "      <td>...</td>\n",
       "      <td>0</td>\n",
       "      <td>0</td>\n",
       "      <td>0</td>\n",
       "      <td>0</td>\n",
       "      <td>0</td>\n",
       "      <td>0</td>\n",
       "      <td>0</td>\n",
       "      <td>0</td>\n",
       "      <td>0</td>\n",
       "      <td>0</td>\n",
       "    </tr>\n",
       "    <tr>\n",
       "      <th>146844</th>\n",
       "      <td>-0.243932</td>\n",
       "      <td>-0.380232</td>\n",
       "      <td>-0.044824</td>\n",
       "      <td>-0.582347</td>\n",
       "      <td>-0.05133</td>\n",
       "      <td>-0.283428</td>\n",
       "      <td>-0.169589</td>\n",
       "      <td>-0.124857</td>\n",
       "      <td>-0.248485</td>\n",
       "      <td>-1.004598</td>\n",
       "      <td>...</td>\n",
       "      <td>0</td>\n",
       "      <td>0</td>\n",
       "      <td>0</td>\n",
       "      <td>0</td>\n",
       "      <td>0</td>\n",
       "      <td>0</td>\n",
       "      <td>0</td>\n",
       "      <td>1</td>\n",
       "      <td>0</td>\n",
       "      <td>0</td>\n",
       "    </tr>\n",
       "    <tr>\n",
       "      <th>146845</th>\n",
       "      <td>-0.243932</td>\n",
       "      <td>-0.380232</td>\n",
       "      <td>-0.044824</td>\n",
       "      <td>-0.582347</td>\n",
       "      <td>-0.05133</td>\n",
       "      <td>-0.312371</td>\n",
       "      <td>-0.169589</td>\n",
       "      <td>0.029532</td>\n",
       "      <td>-0.248485</td>\n",
       "      <td>-1.004598</td>\n",
       "      <td>...</td>\n",
       "      <td>0</td>\n",
       "      <td>0</td>\n",
       "      <td>0</td>\n",
       "      <td>0</td>\n",
       "      <td>0</td>\n",
       "      <td>0</td>\n",
       "      <td>0</td>\n",
       "      <td>0</td>\n",
       "      <td>0</td>\n",
       "      <td>0</td>\n",
       "    </tr>\n",
       "    <tr>\n",
       "      <th>...</th>\n",
       "      <td>...</td>\n",
       "      <td>...</td>\n",
       "      <td>...</td>\n",
       "      <td>...</td>\n",
       "      <td>...</td>\n",
       "      <td>...</td>\n",
       "      <td>...</td>\n",
       "      <td>...</td>\n",
       "      <td>...</td>\n",
       "      <td>...</td>\n",
       "      <td>...</td>\n",
       "      <td>...</td>\n",
       "      <td>...</td>\n",
       "      <td>...</td>\n",
       "      <td>...</td>\n",
       "      <td>...</td>\n",
       "      <td>...</td>\n",
       "      <td>...</td>\n",
       "      <td>...</td>\n",
       "      <td>...</td>\n",
       "      <td>...</td>\n",
       "    </tr>\n",
       "    <tr>\n",
       "      <th>590822</th>\n",
       "      <td>-0.243932</td>\n",
       "      <td>-0.380232</td>\n",
       "      <td>-0.044824</td>\n",
       "      <td>-0.582347</td>\n",
       "      <td>-0.05133</td>\n",
       "      <td>-0.312371</td>\n",
       "      <td>-0.169589</td>\n",
       "      <td>-0.301613</td>\n",
       "      <td>-0.248485</td>\n",
       "      <td>-1.004598</td>\n",
       "      <td>...</td>\n",
       "      <td>0</td>\n",
       "      <td>1</td>\n",
       "      <td>0</td>\n",
       "      <td>0</td>\n",
       "      <td>0</td>\n",
       "      <td>0</td>\n",
       "      <td>0</td>\n",
       "      <td>0</td>\n",
       "      <td>0</td>\n",
       "      <td>0</td>\n",
       "    </tr>\n",
       "    <tr>\n",
       "      <th>590823</th>\n",
       "      <td>-0.243932</td>\n",
       "      <td>-0.380232</td>\n",
       "      <td>-0.044824</td>\n",
       "      <td>-0.582347</td>\n",
       "      <td>-0.05133</td>\n",
       "      <td>-0.312371</td>\n",
       "      <td>-0.169589</td>\n",
       "      <td>1.927086</td>\n",
       "      <td>2.804227</td>\n",
       "      <td>-1.004598</td>\n",
       "      <td>...</td>\n",
       "      <td>0</td>\n",
       "      <td>1</td>\n",
       "      <td>0</td>\n",
       "      <td>0</td>\n",
       "      <td>0</td>\n",
       "      <td>0</td>\n",
       "      <td>0</td>\n",
       "      <td>0</td>\n",
       "      <td>0</td>\n",
       "      <td>0</td>\n",
       "    </tr>\n",
       "    <tr>\n",
       "      <th>590825</th>\n",
       "      <td>-0.243932</td>\n",
       "      <td>0.019401</td>\n",
       "      <td>-0.044824</td>\n",
       "      <td>0.119528</td>\n",
       "      <td>-0.05133</td>\n",
       "      <td>-0.312371</td>\n",
       "      <td>-0.169589</td>\n",
       "      <td>0.843853</td>\n",
       "      <td>0.113815</td>\n",
       "      <td>0.135764</td>\n",
       "      <td>...</td>\n",
       "      <td>0</td>\n",
       "      <td>0</td>\n",
       "      <td>0</td>\n",
       "      <td>0</td>\n",
       "      <td>0</td>\n",
       "      <td>0</td>\n",
       "      <td>0</td>\n",
       "      <td>1</td>\n",
       "      <td>0</td>\n",
       "      <td>0</td>\n",
       "    </tr>\n",
       "    <tr>\n",
       "      <th>590826</th>\n",
       "      <td>-0.243932</td>\n",
       "      <td>-0.380232</td>\n",
       "      <td>-0.044824</td>\n",
       "      <td>-0.582347</td>\n",
       "      <td>-0.05133</td>\n",
       "      <td>-0.312371</td>\n",
       "      <td>-0.169589</td>\n",
       "      <td>-0.288932</td>\n",
       "      <td>3.034981</td>\n",
       "      <td>-1.004598</td>\n",
       "      <td>...</td>\n",
       "      <td>0</td>\n",
       "      <td>0</td>\n",
       "      <td>0</td>\n",
       "      <td>0</td>\n",
       "      <td>0</td>\n",
       "      <td>0</td>\n",
       "      <td>0</td>\n",
       "      <td>0</td>\n",
       "      <td>0</td>\n",
       "      <td>1</td>\n",
       "    </tr>\n",
       "    <tr>\n",
       "      <th>590828</th>\n",
       "      <td>-0.243932</td>\n",
       "      <td>-0.380232</td>\n",
       "      <td>-0.044824</td>\n",
       "      <td>-0.582347</td>\n",
       "      <td>-0.05133</td>\n",
       "      <td>-0.294876</td>\n",
       "      <td>-0.169589</td>\n",
       "      <td>-0.292957</td>\n",
       "      <td>-0.248485</td>\n",
       "      <td>-1.004598</td>\n",
       "      <td>...</td>\n",
       "      <td>0</td>\n",
       "      <td>0</td>\n",
       "      <td>0</td>\n",
       "      <td>0</td>\n",
       "      <td>0</td>\n",
       "      <td>0</td>\n",
       "      <td>0</td>\n",
       "      <td>1</td>\n",
       "      <td>0</td>\n",
       "      <td>0</td>\n",
       "    </tr>\n",
       "  </tbody>\n",
       "</table>\n",
       "<p>355190 rows × 233 columns</p>\n",
       "</div>"
      ],
      "text/plain": [
       "        CR_PROD_CNT_IL  AMOUNT_RUB_CLO_PRC  TURNOVER_DYNAMIC_IL_1M  \\\n",
       "ID                                                                   \n",
       "146841       -0.243932           -0.380232               -0.044824   \n",
       "146842       -0.243932            0.016835               -0.044824   \n",
       "146843       -0.243932           -0.313313               -0.044824   \n",
       "146844       -0.243932           -0.380232               -0.044824   \n",
       "146845       -0.243932           -0.380232               -0.044824   \n",
       "...                ...                 ...                     ...   \n",
       "590822       -0.243932           -0.380232               -0.044824   \n",
       "590823       -0.243932           -0.380232               -0.044824   \n",
       "590825       -0.243932            0.019401               -0.044824   \n",
       "590826       -0.243932           -0.380232               -0.044824   \n",
       "590828       -0.243932           -0.380232               -0.044824   \n",
       "\n",
       "        AMOUNT_RUB_SUP_PRC  REST_DYNAMIC_FDEP_1M  REST_DYNAMIC_SAVE_3M  \\\n",
       "ID                                                                       \n",
       "146841           -0.582347              -0.05133              2.356500   \n",
       "146842            1.221828              -0.05133             -0.312371   \n",
       "146843           -0.582347              -0.05133             -0.312371   \n",
       "146844           -0.582347              -0.05133             -0.283428   \n",
       "146845           -0.582347              -0.05133             -0.312371   \n",
       "...                    ...                   ...                   ...   \n",
       "590822           -0.582347              -0.05133             -0.312371   \n",
       "590823           -0.582347              -0.05133             -0.312371   \n",
       "590825            0.119528              -0.05133             -0.312371   \n",
       "590826           -0.582347              -0.05133             -0.312371   \n",
       "590828           -0.582347              -0.05133             -0.294876   \n",
       "\n",
       "        CR_PROD_CNT_VCU  REST_AVG_CUR  AMOUNT_RUB_NAS_PRC  \\\n",
       "ID                                                          \n",
       "146841        -0.169589      0.477531           -0.248485   \n",
       "146842        -0.169589     -0.330458           -0.248485   \n",
       "146843        -0.169589      0.247411           -0.248485   \n",
       "146844        -0.169589     -0.124857           -0.248485   \n",
       "146845        -0.169589      0.029532           -0.248485   \n",
       "...                 ...           ...                 ...   \n",
       "590822        -0.169589     -0.301613           -0.248485   \n",
       "590823        -0.169589      1.927086            2.804227   \n",
       "590825        -0.169589      0.843853            0.113815   \n",
       "590826        -0.169589     -0.288932            3.034981   \n",
       "590828        -0.169589     -0.292957           -0.248485   \n",
       "\n",
       "        TRANS_COUNT_SUP_PRC  ...  PACK_103  PACK_104  PACK_105  PACK_107  \\\n",
       "ID                           ...                                           \n",
       "146841            -1.004598  ...         0         0         0         0   \n",
       "146842             1.446347  ...         0         0         0         0   \n",
       "146843            -1.004598  ...         0         0         0         0   \n",
       "146844            -1.004598  ...         0         0         0         0   \n",
       "146845            -1.004598  ...         0         0         0         0   \n",
       "...                     ...  ...       ...       ...       ...       ...   \n",
       "590822            -1.004598  ...         0         1         0         0   \n",
       "590823            -1.004598  ...         0         1         0         0   \n",
       "590825             0.135764  ...         0         0         0         0   \n",
       "590826            -1.004598  ...         0         0         0         0   \n",
       "590828            -1.004598  ...         0         0         0         0   \n",
       "\n",
       "        PACK_108  PACK_109  PACK_301  PACK_k01  PACK_m01  PACK_o01  \n",
       "ID                                                                  \n",
       "146841         0         0         0         1         0         0  \n",
       "146842         0         0         0         0         0         0  \n",
       "146843         0         0         0         0         0         0  \n",
       "146844         0         0         0         1         0         0  \n",
       "146845         0         0         0         0         0         0  \n",
       "...          ...       ...       ...       ...       ...       ...  \n",
       "590822         0         0         0         0         0         0  \n",
       "590823         0         0         0         0         0         0  \n",
       "590825         0         0         0         1         0         0  \n",
       "590826         0         0         0         0         0         1  \n",
       "590828         0         0         0         1         0         0  \n",
       "\n",
       "[355190 rows x 233 columns]"
      ]
     },
     "execution_count": 3,
     "metadata": {},
     "output_type": "execute_result"
    }
   ],
   "source": [
    "X = df.drop(columns = 'TARGET'); X"
   ]
  },
  {
   "cell_type": "code",
   "execution_count": 4,
   "id": "3937ee11",
   "metadata": {},
   "outputs": [],
   "source": [
    "y = df.TARGET"
   ]
  },
  {
   "cell_type": "code",
   "execution_count": 5,
   "id": "eeaeb502",
   "metadata": {},
   "outputs": [],
   "source": [
    "X_train, X_test, y_train, y_test = train_test_split(X, y, \n",
    "                                                    test_size=0.33,\n",
    "                                                    random_state=8,\n",
    "                                                   shuffle=True,\n",
    "                                                   stratify=y)"
   ]
  },
  {
   "cell_type": "code",
   "execution_count": null,
   "id": "9699e20e",
   "metadata": {},
   "outputs": [],
   "source": []
  },
  {
   "cell_type": "code",
   "execution_count": null,
   "id": "05fe38ce",
   "metadata": {},
   "outputs": [],
   "source": []
  },
  {
   "cell_type": "code",
   "execution_count": 7,
   "id": "8de5b840",
   "metadata": {},
   "outputs": [],
   "source": [
    "from sklearn.ensemble import RandomForestClassifier"
   ]
  },
  {
   "cell_type": "code",
   "execution_count": 30,
   "id": "bdc75229",
   "metadata": {},
   "outputs": [],
   "source": [
    "params = {'n_estimators':[200, 300, 400], \n",
    "          'max_depth': [10, 50, None],\n",
    "         'max_samples': [20000, None]}"
   ]
  },
  {
   "cell_type": "code",
   "execution_count": 31,
   "id": "7f8ce0c0",
   "metadata": {},
   "outputs": [
    {
     "name": "stdout",
     "output_type": "stream",
     "text": [
      "CPU times: total: 5min 21s\n",
      "Wall time: 17min 53s\n"
     ]
    }
   ],
   "source": [
    "%%time\n",
    "estimator = RandomForestClassifier(criterion='gini', \n",
    "                                   max_features='sqrt', \n",
    "                                   bootstrap=True, \n",
    "                                   oob_score=False, \n",
    "                                   n_jobs=-1,\n",
    "                                   random_state=8, \n",
    "                                   class_weight='balanced_subsample')\n",
    "forest_clf = GridSearchCV(estimator=estimator,\n",
    "                          param_grid=params,\n",
    "                          scoring='balanced_accuracy', \n",
    "                          n_jobs=-1,\n",
    "                          refit=True,\n",
    "                          cv=2).fit(X_train, y_train)"
   ]
  },
  {
   "cell_type": "code",
   "execution_count": 32,
   "id": "8eb5909b",
   "metadata": {},
   "outputs": [
    {
     "data": {
      "text/plain": [
       "0.7232999328766789"
      ]
     },
     "execution_count": 32,
     "metadata": {},
     "output_type": "execute_result"
    }
   ],
   "source": [
    "forest_clf.best_score_"
   ]
  },
  {
   "cell_type": "code",
   "execution_count": 33,
   "id": "477e35aa",
   "metadata": {
    "scrolled": false
   },
   "outputs": [
    {
     "data": {
      "text/plain": [
       "{'max_depth': 10, 'max_samples': None, 'n_estimators': 400}"
      ]
     },
     "execution_count": 33,
     "metadata": {},
     "output_type": "execute_result"
    }
   ],
   "source": [
    "forest_clf.best_params_"
   ]
  },
  {
   "cell_type": "code",
   "execution_count": 34,
   "id": "b00d5d02",
   "metadata": {},
   "outputs": [],
   "source": [
    "params = {'n_estimators':[350, 400, 500, 600], \n",
    "          'max_depth': [5, 10, 20],\n",
    "         'max_samples': [None]}"
   ]
  },
  {
   "cell_type": "code",
   "execution_count": 35,
   "id": "8df34cb4",
   "metadata": {},
   "outputs": [
    {
     "name": "stdout",
     "output_type": "stream",
     "text": [
      "CPU times: total: 7min 59s\n",
      "Wall time: 18min 48s\n"
     ]
    }
   ],
   "source": [
    "%%time\n",
    "estimator = RandomForestClassifier(criterion='gini', \n",
    "                                   max_features='sqrt', \n",
    "                                   bootstrap=True, \n",
    "                                   oob_score=False, \n",
    "                                   n_jobs=-1,\n",
    "                                   random_state=8, \n",
    "                                   class_weight='balanced_subsample')\n",
    "forest_clf = GridSearchCV(estimator=estimator,\n",
    "                          param_grid=params,\n",
    "                          scoring='balanced_accuracy', \n",
    "                          n_jobs=-1,\n",
    "                          refit=True,\n",
    "                          cv=2).fit(X_train, y_train)"
   ]
  },
  {
   "cell_type": "code",
   "execution_count": 36,
   "id": "e3ccde2e",
   "metadata": {
    "scrolled": true
   },
   "outputs": [
    {
     "data": {
      "text/plain": [
       "0.7236654347950653"
      ]
     },
     "execution_count": 36,
     "metadata": {},
     "output_type": "execute_result"
    }
   ],
   "source": [
    "forest_clf.best_score_"
   ]
  },
  {
   "cell_type": "code",
   "execution_count": 37,
   "id": "fb14f565",
   "metadata": {
    "scrolled": false
   },
   "outputs": [
    {
     "data": {
      "text/plain": [
       "{'max_depth': 10, 'max_samples': None, 'n_estimators': 600}"
      ]
     },
     "execution_count": 37,
     "metadata": {},
     "output_type": "execute_result"
    }
   ],
   "source": [
    "forest_clf.best_params_"
   ]
  },
  {
   "cell_type": "code",
   "execution_count": 38,
   "id": "de778d12",
   "metadata": {},
   "outputs": [],
   "source": [
    "best_forest_clf = forest_clf.best_estimator_"
   ]
  },
  {
   "cell_type": "code",
   "execution_count": 39,
   "id": "84b9f5a0",
   "metadata": {},
   "outputs": [],
   "source": [
    "y_pred = best_forest_clf.predict(X_test)"
   ]
  },
  {
   "cell_type": "code",
   "execution_count": 40,
   "id": "14141eab",
   "metadata": {},
   "outputs": [
    {
     "data": {
      "text/plain": [
       "0.724586863231894"
      ]
     },
     "execution_count": 40,
     "metadata": {},
     "output_type": "execute_result"
    }
   ],
   "source": [
    "metrics.accuracy_score(y_test, y_pred)"
   ]
  },
  {
   "cell_type": "code",
   "execution_count": 41,
   "id": "edd2951f",
   "metadata": {},
   "outputs": [
    {
     "data": {
      "text/plain": [
       "0.7291611892585697"
      ]
     },
     "execution_count": 41,
     "metadata": {},
     "output_type": "execute_result"
    }
   ],
   "source": [
    "metrics.balanced_accuracy_score(y_test, y_pred)"
   ]
  },
  {
   "cell_type": "code",
   "execution_count": 42,
   "id": "95a92257",
   "metadata": {},
   "outputs": [
    {
     "data": {
      "text/plain": [
       "0.7346254583551598"
      ]
     },
     "execution_count": 42,
     "metadata": {},
     "output_type": "execute_result"
    }
   ],
   "source": [
    "metrics.recall_score(y_test, y_pred)"
   ]
  },
  {
   "cell_type": "code",
   "execution_count": 43,
   "id": "77579af9",
   "metadata": {},
   "outputs": [
    {
     "data": {
      "text/plain": [
       "array([[0.57891012, 0.42108988],\n",
       "       [0.82172376, 0.17827624],\n",
       "       [0.64296721, 0.35703279],\n",
       "       ...,\n",
       "       [0.73035572, 0.26964428],\n",
       "       [0.36085865, 0.63914135],\n",
       "       [0.73782369, 0.26217631]])"
      ]
     },
     "execution_count": 43,
     "metadata": {},
     "output_type": "execute_result"
    }
   ],
   "source": [
    "y_pred_proba = best_forest_clf.predict_proba(X_test); y_pred_proba"
   ]
  },
  {
   "cell_type": "code",
   "execution_count": 44,
   "id": "06227469",
   "metadata": {
    "scrolled": true
   },
   "outputs": [
    {
     "data": {
      "text/plain": [
       "0.8024670108544097"
      ]
     },
     "execution_count": 44,
     "metadata": {},
     "output_type": "execute_result"
    }
   ],
   "source": [
    "metrics.roc_auc_score(y_test, y_pred_proba[:, 1])"
   ]
  },
  {
   "cell_type": "code",
   "execution_count": 45,
   "id": "baa0ba9f",
   "metadata": {},
   "outputs": [
    {
     "data": {
      "text/plain": [
       "array([[77919, 29749],\n",
       "       [ 2533,  7012]], dtype=int64)"
      ]
     },
     "execution_count": 45,
     "metadata": {},
     "output_type": "execute_result"
    }
   ],
   "source": [
    "metrics.confusion_matrix(y_test, y_pred)"
   ]
  },
  {
   "cell_type": "code",
   "execution_count": 48,
   "id": "996a4061",
   "metadata": {
    "scrolled": true
   },
   "outputs": [
    {
     "data": {
      "text/plain": [
       "array([[0.72369692, 0.27630308],\n",
       "       [0.26537454, 0.73462546]])"
      ]
     },
     "execution_count": 48,
     "metadata": {},
     "output_type": "execute_result"
    }
   ],
   "source": [
    "metrics.confusion_matrix(y_test, y_pred, normalize='true')"
   ]
  },
  {
   "cell_type": "markdown",
   "id": "ef7d6407",
   "metadata": {},
   "source": [
    "Further adjustments can be made by changing the threshold depending on business requirements"
   ]
  },
  {
   "cell_type": "code",
   "execution_count": null,
   "id": "17717234",
   "metadata": {},
   "outputs": [],
   "source": []
  },
  {
   "cell_type": "markdown",
   "id": "0b015a24",
   "metadata": {},
   "source": [
    "# First attempt at model selection with data on client job positions"
   ]
  },
  {
   "cell_type": "code",
   "execution_count": 2,
   "id": "1a29e511",
   "metadata": {
    "scrolled": true
   },
   "outputs": [
    {
     "data": {
      "text/html": [
       "<div>\n",
       "<style scoped>\n",
       "    .dataframe tbody tr th:only-of-type {\n",
       "        vertical-align: middle;\n",
       "    }\n",
       "\n",
       "    .dataframe tbody tr th {\n",
       "        vertical-align: top;\n",
       "    }\n",
       "\n",
       "    .dataframe thead th {\n",
       "        text-align: right;\n",
       "    }\n",
       "</style>\n",
       "<table border=\"1\" class=\"dataframe\">\n",
       "  <thead>\n",
       "    <tr style=\"text-align: right;\">\n",
       "      <th></th>\n",
       "      <th>CR_PROD_CNT_IL</th>\n",
       "      <th>AMOUNT_RUB_CLO_PRC</th>\n",
       "      <th>TURNOVER_DYNAMIC_IL_1M</th>\n",
       "      <th>AMOUNT_RUB_SUP_PRC</th>\n",
       "      <th>REST_DYNAMIC_FDEP_1M</th>\n",
       "      <th>REST_DYNAMIC_SAVE_3M</th>\n",
       "      <th>CR_PROD_CNT_VCU</th>\n",
       "      <th>REST_AVG_CUR</th>\n",
       "      <th>AMOUNT_RUB_NAS_PRC</th>\n",
       "      <th>TRANS_COUNT_SUP_PRC</th>\n",
       "      <th>...</th>\n",
       "      <th>PACK_103</th>\n",
       "      <th>PACK_104</th>\n",
       "      <th>PACK_105</th>\n",
       "      <th>PACK_107</th>\n",
       "      <th>PACK_108</th>\n",
       "      <th>PACK_109</th>\n",
       "      <th>PACK_301</th>\n",
       "      <th>PACK_k01</th>\n",
       "      <th>PACK_m01</th>\n",
       "      <th>PACK_o01</th>\n",
       "    </tr>\n",
       "    <tr>\n",
       "      <th>ID</th>\n",
       "      <th></th>\n",
       "      <th></th>\n",
       "      <th></th>\n",
       "      <th></th>\n",
       "      <th></th>\n",
       "      <th></th>\n",
       "      <th></th>\n",
       "      <th></th>\n",
       "      <th></th>\n",
       "      <th></th>\n",
       "      <th></th>\n",
       "      <th></th>\n",
       "      <th></th>\n",
       "      <th></th>\n",
       "      <th></th>\n",
       "      <th></th>\n",
       "      <th></th>\n",
       "      <th></th>\n",
       "      <th></th>\n",
       "      <th></th>\n",
       "      <th></th>\n",
       "    </tr>\n",
       "  </thead>\n",
       "  <tbody>\n",
       "    <tr>\n",
       "      <th>146841</th>\n",
       "      <td>-0.243932</td>\n",
       "      <td>-0.380232</td>\n",
       "      <td>-0.044824</td>\n",
       "      <td>-0.582347</td>\n",
       "      <td>-0.05133</td>\n",
       "      <td>2.356500</td>\n",
       "      <td>-0.169589</td>\n",
       "      <td>0.477531</td>\n",
       "      <td>-0.248485</td>\n",
       "      <td>-1.004598</td>\n",
       "      <td>...</td>\n",
       "      <td>0</td>\n",
       "      <td>0</td>\n",
       "      <td>0</td>\n",
       "      <td>0</td>\n",
       "      <td>0</td>\n",
       "      <td>0</td>\n",
       "      <td>0</td>\n",
       "      <td>1</td>\n",
       "      <td>0</td>\n",
       "      <td>0</td>\n",
       "    </tr>\n",
       "    <tr>\n",
       "      <th>146842</th>\n",
       "      <td>-0.243932</td>\n",
       "      <td>0.016835</td>\n",
       "      <td>-0.044824</td>\n",
       "      <td>1.221828</td>\n",
       "      <td>-0.05133</td>\n",
       "      <td>-0.312371</td>\n",
       "      <td>-0.169589</td>\n",
       "      <td>-0.330458</td>\n",
       "      <td>-0.248485</td>\n",
       "      <td>1.446347</td>\n",
       "      <td>...</td>\n",
       "      <td>0</td>\n",
       "      <td>0</td>\n",
       "      <td>0</td>\n",
       "      <td>0</td>\n",
       "      <td>0</td>\n",
       "      <td>0</td>\n",
       "      <td>0</td>\n",
       "      <td>0</td>\n",
       "      <td>0</td>\n",
       "      <td>0</td>\n",
       "    </tr>\n",
       "    <tr>\n",
       "      <th>146843</th>\n",
       "      <td>-0.243932</td>\n",
       "      <td>-0.313313</td>\n",
       "      <td>-0.044824</td>\n",
       "      <td>-0.582347</td>\n",
       "      <td>-0.05133</td>\n",
       "      <td>-0.312371</td>\n",
       "      <td>-0.169589</td>\n",
       "      <td>0.247411</td>\n",
       "      <td>-0.248485</td>\n",
       "      <td>-1.004598</td>\n",
       "      <td>...</td>\n",
       "      <td>0</td>\n",
       "      <td>0</td>\n",
       "      <td>0</td>\n",
       "      <td>0</td>\n",
       "      <td>0</td>\n",
       "      <td>0</td>\n",
       "      <td>0</td>\n",
       "      <td>0</td>\n",
       "      <td>0</td>\n",
       "      <td>0</td>\n",
       "    </tr>\n",
       "    <tr>\n",
       "      <th>146844</th>\n",
       "      <td>-0.243932</td>\n",
       "      <td>-0.380232</td>\n",
       "      <td>-0.044824</td>\n",
       "      <td>-0.582347</td>\n",
       "      <td>-0.05133</td>\n",
       "      <td>-0.283428</td>\n",
       "      <td>-0.169589</td>\n",
       "      <td>-0.124857</td>\n",
       "      <td>-0.248485</td>\n",
       "      <td>-1.004598</td>\n",
       "      <td>...</td>\n",
       "      <td>0</td>\n",
       "      <td>0</td>\n",
       "      <td>0</td>\n",
       "      <td>0</td>\n",
       "      <td>0</td>\n",
       "      <td>0</td>\n",
       "      <td>0</td>\n",
       "      <td>1</td>\n",
       "      <td>0</td>\n",
       "      <td>0</td>\n",
       "    </tr>\n",
       "    <tr>\n",
       "      <th>146845</th>\n",
       "      <td>-0.243932</td>\n",
       "      <td>-0.380232</td>\n",
       "      <td>-0.044824</td>\n",
       "      <td>-0.582347</td>\n",
       "      <td>-0.05133</td>\n",
       "      <td>-0.312371</td>\n",
       "      <td>-0.169589</td>\n",
       "      <td>0.029532</td>\n",
       "      <td>-0.248485</td>\n",
       "      <td>-1.004598</td>\n",
       "      <td>...</td>\n",
       "      <td>0</td>\n",
       "      <td>0</td>\n",
       "      <td>0</td>\n",
       "      <td>0</td>\n",
       "      <td>0</td>\n",
       "      <td>0</td>\n",
       "      <td>0</td>\n",
       "      <td>0</td>\n",
       "      <td>0</td>\n",
       "      <td>0</td>\n",
       "    </tr>\n",
       "    <tr>\n",
       "      <th>...</th>\n",
       "      <td>...</td>\n",
       "      <td>...</td>\n",
       "      <td>...</td>\n",
       "      <td>...</td>\n",
       "      <td>...</td>\n",
       "      <td>...</td>\n",
       "      <td>...</td>\n",
       "      <td>...</td>\n",
       "      <td>...</td>\n",
       "      <td>...</td>\n",
       "      <td>...</td>\n",
       "      <td>...</td>\n",
       "      <td>...</td>\n",
       "      <td>...</td>\n",
       "      <td>...</td>\n",
       "      <td>...</td>\n",
       "      <td>...</td>\n",
       "      <td>...</td>\n",
       "      <td>...</td>\n",
       "      <td>...</td>\n",
       "      <td>...</td>\n",
       "    </tr>\n",
       "    <tr>\n",
       "      <th>590822</th>\n",
       "      <td>-0.243932</td>\n",
       "      <td>-0.380232</td>\n",
       "      <td>-0.044824</td>\n",
       "      <td>-0.582347</td>\n",
       "      <td>-0.05133</td>\n",
       "      <td>-0.312371</td>\n",
       "      <td>-0.169589</td>\n",
       "      <td>-0.301613</td>\n",
       "      <td>-0.248485</td>\n",
       "      <td>-1.004598</td>\n",
       "      <td>...</td>\n",
       "      <td>0</td>\n",
       "      <td>1</td>\n",
       "      <td>0</td>\n",
       "      <td>0</td>\n",
       "      <td>0</td>\n",
       "      <td>0</td>\n",
       "      <td>0</td>\n",
       "      <td>0</td>\n",
       "      <td>0</td>\n",
       "      <td>0</td>\n",
       "    </tr>\n",
       "    <tr>\n",
       "      <th>590823</th>\n",
       "      <td>-0.243932</td>\n",
       "      <td>-0.380232</td>\n",
       "      <td>-0.044824</td>\n",
       "      <td>-0.582347</td>\n",
       "      <td>-0.05133</td>\n",
       "      <td>-0.312371</td>\n",
       "      <td>-0.169589</td>\n",
       "      <td>1.927086</td>\n",
       "      <td>2.804227</td>\n",
       "      <td>-1.004598</td>\n",
       "      <td>...</td>\n",
       "      <td>0</td>\n",
       "      <td>1</td>\n",
       "      <td>0</td>\n",
       "      <td>0</td>\n",
       "      <td>0</td>\n",
       "      <td>0</td>\n",
       "      <td>0</td>\n",
       "      <td>0</td>\n",
       "      <td>0</td>\n",
       "      <td>0</td>\n",
       "    </tr>\n",
       "    <tr>\n",
       "      <th>590825</th>\n",
       "      <td>-0.243932</td>\n",
       "      <td>0.019401</td>\n",
       "      <td>-0.044824</td>\n",
       "      <td>0.119528</td>\n",
       "      <td>-0.05133</td>\n",
       "      <td>-0.312371</td>\n",
       "      <td>-0.169589</td>\n",
       "      <td>0.843853</td>\n",
       "      <td>0.113815</td>\n",
       "      <td>0.135764</td>\n",
       "      <td>...</td>\n",
       "      <td>0</td>\n",
       "      <td>0</td>\n",
       "      <td>0</td>\n",
       "      <td>0</td>\n",
       "      <td>0</td>\n",
       "      <td>0</td>\n",
       "      <td>0</td>\n",
       "      <td>1</td>\n",
       "      <td>0</td>\n",
       "      <td>0</td>\n",
       "    </tr>\n",
       "    <tr>\n",
       "      <th>590826</th>\n",
       "      <td>-0.243932</td>\n",
       "      <td>-0.380232</td>\n",
       "      <td>-0.044824</td>\n",
       "      <td>-0.582347</td>\n",
       "      <td>-0.05133</td>\n",
       "      <td>-0.312371</td>\n",
       "      <td>-0.169589</td>\n",
       "      <td>-0.288932</td>\n",
       "      <td>3.034981</td>\n",
       "      <td>-1.004598</td>\n",
       "      <td>...</td>\n",
       "      <td>0</td>\n",
       "      <td>0</td>\n",
       "      <td>0</td>\n",
       "      <td>0</td>\n",
       "      <td>0</td>\n",
       "      <td>0</td>\n",
       "      <td>0</td>\n",
       "      <td>0</td>\n",
       "      <td>0</td>\n",
       "      <td>1</td>\n",
       "    </tr>\n",
       "    <tr>\n",
       "      <th>590828</th>\n",
       "      <td>-0.243932</td>\n",
       "      <td>-0.380232</td>\n",
       "      <td>-0.044824</td>\n",
       "      <td>-0.582347</td>\n",
       "      <td>-0.05133</td>\n",
       "      <td>-0.294876</td>\n",
       "      <td>-0.169589</td>\n",
       "      <td>-0.292957</td>\n",
       "      <td>-0.248485</td>\n",
       "      <td>-1.004598</td>\n",
       "      <td>...</td>\n",
       "      <td>0</td>\n",
       "      <td>0</td>\n",
       "      <td>0</td>\n",
       "      <td>0</td>\n",
       "      <td>0</td>\n",
       "      <td>0</td>\n",
       "      <td>0</td>\n",
       "      <td>1</td>\n",
       "      <td>0</td>\n",
       "      <td>0</td>\n",
       "    </tr>\n",
       "  </tbody>\n",
       "</table>\n",
       "<p>355190 rows × 284 columns</p>\n",
       "</div>"
      ],
      "text/plain": [
       "        CR_PROD_CNT_IL  AMOUNT_RUB_CLO_PRC  TURNOVER_DYNAMIC_IL_1M  \\\n",
       "ID                                                                   \n",
       "146841       -0.243932           -0.380232               -0.044824   \n",
       "146842       -0.243932            0.016835               -0.044824   \n",
       "146843       -0.243932           -0.313313               -0.044824   \n",
       "146844       -0.243932           -0.380232               -0.044824   \n",
       "146845       -0.243932           -0.380232               -0.044824   \n",
       "...                ...                 ...                     ...   \n",
       "590822       -0.243932           -0.380232               -0.044824   \n",
       "590823       -0.243932           -0.380232               -0.044824   \n",
       "590825       -0.243932            0.019401               -0.044824   \n",
       "590826       -0.243932           -0.380232               -0.044824   \n",
       "590828       -0.243932           -0.380232               -0.044824   \n",
       "\n",
       "        AMOUNT_RUB_SUP_PRC  REST_DYNAMIC_FDEP_1M  REST_DYNAMIC_SAVE_3M  \\\n",
       "ID                                                                       \n",
       "146841           -0.582347              -0.05133              2.356500   \n",
       "146842            1.221828              -0.05133             -0.312371   \n",
       "146843           -0.582347              -0.05133             -0.312371   \n",
       "146844           -0.582347              -0.05133             -0.283428   \n",
       "146845           -0.582347              -0.05133             -0.312371   \n",
       "...                    ...                   ...                   ...   \n",
       "590822           -0.582347              -0.05133             -0.312371   \n",
       "590823           -0.582347              -0.05133             -0.312371   \n",
       "590825            0.119528              -0.05133             -0.312371   \n",
       "590826           -0.582347              -0.05133             -0.312371   \n",
       "590828           -0.582347              -0.05133             -0.294876   \n",
       "\n",
       "        CR_PROD_CNT_VCU  REST_AVG_CUR  AMOUNT_RUB_NAS_PRC  \\\n",
       "ID                                                          \n",
       "146841        -0.169589      0.477531           -0.248485   \n",
       "146842        -0.169589     -0.330458           -0.248485   \n",
       "146843        -0.169589      0.247411           -0.248485   \n",
       "146844        -0.169589     -0.124857           -0.248485   \n",
       "146845        -0.169589      0.029532           -0.248485   \n",
       "...                 ...           ...                 ...   \n",
       "590822        -0.169589     -0.301613           -0.248485   \n",
       "590823        -0.169589      1.927086            2.804227   \n",
       "590825        -0.169589      0.843853            0.113815   \n",
       "590826        -0.169589     -0.288932            3.034981   \n",
       "590828        -0.169589     -0.292957           -0.248485   \n",
       "\n",
       "        TRANS_COUNT_SUP_PRC  ...  PACK_103  PACK_104  PACK_105  PACK_107  \\\n",
       "ID                           ...                                           \n",
       "146841            -1.004598  ...         0         0         0         0   \n",
       "146842             1.446347  ...         0         0         0         0   \n",
       "146843            -1.004598  ...         0         0         0         0   \n",
       "146844            -1.004598  ...         0         0         0         0   \n",
       "146845            -1.004598  ...         0         0         0         0   \n",
       "...                     ...  ...       ...       ...       ...       ...   \n",
       "590822            -1.004598  ...         0         1         0         0   \n",
       "590823            -1.004598  ...         0         1         0         0   \n",
       "590825             0.135764  ...         0         0         0         0   \n",
       "590826            -1.004598  ...         0         0         0         0   \n",
       "590828            -1.004598  ...         0         0         0         0   \n",
       "\n",
       "        PACK_108  PACK_109  PACK_301  PACK_k01  PACK_m01  PACK_o01  \n",
       "ID                                                                  \n",
       "146841         0         0         0         1         0         0  \n",
       "146842         0         0         0         0         0         0  \n",
       "146843         0         0         0         0         0         0  \n",
       "146844         0         0         0         1         0         0  \n",
       "146845         0         0         0         0         0         0  \n",
       "...          ...       ...       ...       ...       ...       ...  \n",
       "590822         0         0         0         0         0         0  \n",
       "590823         0         0         0         0         0         0  \n",
       "590825         0         0         0         1         0         0  \n",
       "590826         0         0         0         0         0         1  \n",
       "590828         0         0         0         1         0         0  \n",
       "\n",
       "[355190 rows x 284 columns]"
      ]
     },
     "execution_count": 2,
     "metadata": {},
     "output_type": "execute_result"
    }
   ],
   "source": [
    "df = pd.read_csv('bank_data_with_jobs.csv',\n",
    "                index_col='ID')\n",
    "df"
   ]
  },
  {
   "cell_type": "code",
   "execution_count": 3,
   "id": "54ba370b",
   "metadata": {},
   "outputs": [
    {
     "data": {
      "text/html": [
       "<div>\n",
       "<style scoped>\n",
       "    .dataframe tbody tr th:only-of-type {\n",
       "        vertical-align: middle;\n",
       "    }\n",
       "\n",
       "    .dataframe tbody tr th {\n",
       "        vertical-align: top;\n",
       "    }\n",
       "\n",
       "    .dataframe thead th {\n",
       "        text-align: right;\n",
       "    }\n",
       "</style>\n",
       "<table border=\"1\" class=\"dataframe\">\n",
       "  <thead>\n",
       "    <tr style=\"text-align: right;\">\n",
       "      <th></th>\n",
       "      <th>CR_PROD_CNT_IL</th>\n",
       "      <th>AMOUNT_RUB_CLO_PRC</th>\n",
       "      <th>TURNOVER_DYNAMIC_IL_1M</th>\n",
       "      <th>AMOUNT_RUB_SUP_PRC</th>\n",
       "      <th>REST_DYNAMIC_FDEP_1M</th>\n",
       "      <th>REST_DYNAMIC_SAVE_3M</th>\n",
       "      <th>CR_PROD_CNT_VCU</th>\n",
       "      <th>REST_AVG_CUR</th>\n",
       "      <th>AMOUNT_RUB_NAS_PRC</th>\n",
       "      <th>TRANS_COUNT_SUP_PRC</th>\n",
       "      <th>...</th>\n",
       "      <th>PACK_103</th>\n",
       "      <th>PACK_104</th>\n",
       "      <th>PACK_105</th>\n",
       "      <th>PACK_107</th>\n",
       "      <th>PACK_108</th>\n",
       "      <th>PACK_109</th>\n",
       "      <th>PACK_301</th>\n",
       "      <th>PACK_k01</th>\n",
       "      <th>PACK_m01</th>\n",
       "      <th>PACK_o01</th>\n",
       "    </tr>\n",
       "    <tr>\n",
       "      <th>ID</th>\n",
       "      <th></th>\n",
       "      <th></th>\n",
       "      <th></th>\n",
       "      <th></th>\n",
       "      <th></th>\n",
       "      <th></th>\n",
       "      <th></th>\n",
       "      <th></th>\n",
       "      <th></th>\n",
       "      <th></th>\n",
       "      <th></th>\n",
       "      <th></th>\n",
       "      <th></th>\n",
       "      <th></th>\n",
       "      <th></th>\n",
       "      <th></th>\n",
       "      <th></th>\n",
       "      <th></th>\n",
       "      <th></th>\n",
       "      <th></th>\n",
       "      <th></th>\n",
       "    </tr>\n",
       "  </thead>\n",
       "  <tbody>\n",
       "    <tr>\n",
       "      <th>146841</th>\n",
       "      <td>-0.243932</td>\n",
       "      <td>-0.380232</td>\n",
       "      <td>-0.044824</td>\n",
       "      <td>-0.582347</td>\n",
       "      <td>-0.05133</td>\n",
       "      <td>2.356500</td>\n",
       "      <td>-0.169589</td>\n",
       "      <td>0.477531</td>\n",
       "      <td>-0.248485</td>\n",
       "      <td>-1.004598</td>\n",
       "      <td>...</td>\n",
       "      <td>0</td>\n",
       "      <td>0</td>\n",
       "      <td>0</td>\n",
       "      <td>0</td>\n",
       "      <td>0</td>\n",
       "      <td>0</td>\n",
       "      <td>0</td>\n",
       "      <td>1</td>\n",
       "      <td>0</td>\n",
       "      <td>0</td>\n",
       "    </tr>\n",
       "    <tr>\n",
       "      <th>146842</th>\n",
       "      <td>-0.243932</td>\n",
       "      <td>0.016835</td>\n",
       "      <td>-0.044824</td>\n",
       "      <td>1.221828</td>\n",
       "      <td>-0.05133</td>\n",
       "      <td>-0.312371</td>\n",
       "      <td>-0.169589</td>\n",
       "      <td>-0.330458</td>\n",
       "      <td>-0.248485</td>\n",
       "      <td>1.446347</td>\n",
       "      <td>...</td>\n",
       "      <td>0</td>\n",
       "      <td>0</td>\n",
       "      <td>0</td>\n",
       "      <td>0</td>\n",
       "      <td>0</td>\n",
       "      <td>0</td>\n",
       "      <td>0</td>\n",
       "      <td>0</td>\n",
       "      <td>0</td>\n",
       "      <td>0</td>\n",
       "    </tr>\n",
       "    <tr>\n",
       "      <th>146843</th>\n",
       "      <td>-0.243932</td>\n",
       "      <td>-0.313313</td>\n",
       "      <td>-0.044824</td>\n",
       "      <td>-0.582347</td>\n",
       "      <td>-0.05133</td>\n",
       "      <td>-0.312371</td>\n",
       "      <td>-0.169589</td>\n",
       "      <td>0.247411</td>\n",
       "      <td>-0.248485</td>\n",
       "      <td>-1.004598</td>\n",
       "      <td>...</td>\n",
       "      <td>0</td>\n",
       "      <td>0</td>\n",
       "      <td>0</td>\n",
       "      <td>0</td>\n",
       "      <td>0</td>\n",
       "      <td>0</td>\n",
       "      <td>0</td>\n",
       "      <td>0</td>\n",
       "      <td>0</td>\n",
       "      <td>0</td>\n",
       "    </tr>\n",
       "    <tr>\n",
       "      <th>146844</th>\n",
       "      <td>-0.243932</td>\n",
       "      <td>-0.380232</td>\n",
       "      <td>-0.044824</td>\n",
       "      <td>-0.582347</td>\n",
       "      <td>-0.05133</td>\n",
       "      <td>-0.283428</td>\n",
       "      <td>-0.169589</td>\n",
       "      <td>-0.124857</td>\n",
       "      <td>-0.248485</td>\n",
       "      <td>-1.004598</td>\n",
       "      <td>...</td>\n",
       "      <td>0</td>\n",
       "      <td>0</td>\n",
       "      <td>0</td>\n",
       "      <td>0</td>\n",
       "      <td>0</td>\n",
       "      <td>0</td>\n",
       "      <td>0</td>\n",
       "      <td>1</td>\n",
       "      <td>0</td>\n",
       "      <td>0</td>\n",
       "    </tr>\n",
       "    <tr>\n",
       "      <th>146845</th>\n",
       "      <td>-0.243932</td>\n",
       "      <td>-0.380232</td>\n",
       "      <td>-0.044824</td>\n",
       "      <td>-0.582347</td>\n",
       "      <td>-0.05133</td>\n",
       "      <td>-0.312371</td>\n",
       "      <td>-0.169589</td>\n",
       "      <td>0.029532</td>\n",
       "      <td>-0.248485</td>\n",
       "      <td>-1.004598</td>\n",
       "      <td>...</td>\n",
       "      <td>0</td>\n",
       "      <td>0</td>\n",
       "      <td>0</td>\n",
       "      <td>0</td>\n",
       "      <td>0</td>\n",
       "      <td>0</td>\n",
       "      <td>0</td>\n",
       "      <td>0</td>\n",
       "      <td>0</td>\n",
       "      <td>0</td>\n",
       "    </tr>\n",
       "    <tr>\n",
       "      <th>...</th>\n",
       "      <td>...</td>\n",
       "      <td>...</td>\n",
       "      <td>...</td>\n",
       "      <td>...</td>\n",
       "      <td>...</td>\n",
       "      <td>...</td>\n",
       "      <td>...</td>\n",
       "      <td>...</td>\n",
       "      <td>...</td>\n",
       "      <td>...</td>\n",
       "      <td>...</td>\n",
       "      <td>...</td>\n",
       "      <td>...</td>\n",
       "      <td>...</td>\n",
       "      <td>...</td>\n",
       "      <td>...</td>\n",
       "      <td>...</td>\n",
       "      <td>...</td>\n",
       "      <td>...</td>\n",
       "      <td>...</td>\n",
       "      <td>...</td>\n",
       "    </tr>\n",
       "    <tr>\n",
       "      <th>590822</th>\n",
       "      <td>-0.243932</td>\n",
       "      <td>-0.380232</td>\n",
       "      <td>-0.044824</td>\n",
       "      <td>-0.582347</td>\n",
       "      <td>-0.05133</td>\n",
       "      <td>-0.312371</td>\n",
       "      <td>-0.169589</td>\n",
       "      <td>-0.301613</td>\n",
       "      <td>-0.248485</td>\n",
       "      <td>-1.004598</td>\n",
       "      <td>...</td>\n",
       "      <td>0</td>\n",
       "      <td>1</td>\n",
       "      <td>0</td>\n",
       "      <td>0</td>\n",
       "      <td>0</td>\n",
       "      <td>0</td>\n",
       "      <td>0</td>\n",
       "      <td>0</td>\n",
       "      <td>0</td>\n",
       "      <td>0</td>\n",
       "    </tr>\n",
       "    <tr>\n",
       "      <th>590823</th>\n",
       "      <td>-0.243932</td>\n",
       "      <td>-0.380232</td>\n",
       "      <td>-0.044824</td>\n",
       "      <td>-0.582347</td>\n",
       "      <td>-0.05133</td>\n",
       "      <td>-0.312371</td>\n",
       "      <td>-0.169589</td>\n",
       "      <td>1.927086</td>\n",
       "      <td>2.804227</td>\n",
       "      <td>-1.004598</td>\n",
       "      <td>...</td>\n",
       "      <td>0</td>\n",
       "      <td>1</td>\n",
       "      <td>0</td>\n",
       "      <td>0</td>\n",
       "      <td>0</td>\n",
       "      <td>0</td>\n",
       "      <td>0</td>\n",
       "      <td>0</td>\n",
       "      <td>0</td>\n",
       "      <td>0</td>\n",
       "    </tr>\n",
       "    <tr>\n",
       "      <th>590825</th>\n",
       "      <td>-0.243932</td>\n",
       "      <td>0.019401</td>\n",
       "      <td>-0.044824</td>\n",
       "      <td>0.119528</td>\n",
       "      <td>-0.05133</td>\n",
       "      <td>-0.312371</td>\n",
       "      <td>-0.169589</td>\n",
       "      <td>0.843853</td>\n",
       "      <td>0.113815</td>\n",
       "      <td>0.135764</td>\n",
       "      <td>...</td>\n",
       "      <td>0</td>\n",
       "      <td>0</td>\n",
       "      <td>0</td>\n",
       "      <td>0</td>\n",
       "      <td>0</td>\n",
       "      <td>0</td>\n",
       "      <td>0</td>\n",
       "      <td>1</td>\n",
       "      <td>0</td>\n",
       "      <td>0</td>\n",
       "    </tr>\n",
       "    <tr>\n",
       "      <th>590826</th>\n",
       "      <td>-0.243932</td>\n",
       "      <td>-0.380232</td>\n",
       "      <td>-0.044824</td>\n",
       "      <td>-0.582347</td>\n",
       "      <td>-0.05133</td>\n",
       "      <td>-0.312371</td>\n",
       "      <td>-0.169589</td>\n",
       "      <td>-0.288932</td>\n",
       "      <td>3.034981</td>\n",
       "      <td>-1.004598</td>\n",
       "      <td>...</td>\n",
       "      <td>0</td>\n",
       "      <td>0</td>\n",
       "      <td>0</td>\n",
       "      <td>0</td>\n",
       "      <td>0</td>\n",
       "      <td>0</td>\n",
       "      <td>0</td>\n",
       "      <td>0</td>\n",
       "      <td>0</td>\n",
       "      <td>1</td>\n",
       "    </tr>\n",
       "    <tr>\n",
       "      <th>590828</th>\n",
       "      <td>-0.243932</td>\n",
       "      <td>-0.380232</td>\n",
       "      <td>-0.044824</td>\n",
       "      <td>-0.582347</td>\n",
       "      <td>-0.05133</td>\n",
       "      <td>-0.294876</td>\n",
       "      <td>-0.169589</td>\n",
       "      <td>-0.292957</td>\n",
       "      <td>-0.248485</td>\n",
       "      <td>-1.004598</td>\n",
       "      <td>...</td>\n",
       "      <td>0</td>\n",
       "      <td>0</td>\n",
       "      <td>0</td>\n",
       "      <td>0</td>\n",
       "      <td>0</td>\n",
       "      <td>0</td>\n",
       "      <td>0</td>\n",
       "      <td>1</td>\n",
       "      <td>0</td>\n",
       "      <td>0</td>\n",
       "    </tr>\n",
       "  </tbody>\n",
       "</table>\n",
       "<p>355190 rows × 283 columns</p>\n",
       "</div>"
      ],
      "text/plain": [
       "        CR_PROD_CNT_IL  AMOUNT_RUB_CLO_PRC  TURNOVER_DYNAMIC_IL_1M  \\\n",
       "ID                                                                   \n",
       "146841       -0.243932           -0.380232               -0.044824   \n",
       "146842       -0.243932            0.016835               -0.044824   \n",
       "146843       -0.243932           -0.313313               -0.044824   \n",
       "146844       -0.243932           -0.380232               -0.044824   \n",
       "146845       -0.243932           -0.380232               -0.044824   \n",
       "...                ...                 ...                     ...   \n",
       "590822       -0.243932           -0.380232               -0.044824   \n",
       "590823       -0.243932           -0.380232               -0.044824   \n",
       "590825       -0.243932            0.019401               -0.044824   \n",
       "590826       -0.243932           -0.380232               -0.044824   \n",
       "590828       -0.243932           -0.380232               -0.044824   \n",
       "\n",
       "        AMOUNT_RUB_SUP_PRC  REST_DYNAMIC_FDEP_1M  REST_DYNAMIC_SAVE_3M  \\\n",
       "ID                                                                       \n",
       "146841           -0.582347              -0.05133              2.356500   \n",
       "146842            1.221828              -0.05133             -0.312371   \n",
       "146843           -0.582347              -0.05133             -0.312371   \n",
       "146844           -0.582347              -0.05133             -0.283428   \n",
       "146845           -0.582347              -0.05133             -0.312371   \n",
       "...                    ...                   ...                   ...   \n",
       "590822           -0.582347              -0.05133             -0.312371   \n",
       "590823           -0.582347              -0.05133             -0.312371   \n",
       "590825            0.119528              -0.05133             -0.312371   \n",
       "590826           -0.582347              -0.05133             -0.312371   \n",
       "590828           -0.582347              -0.05133             -0.294876   \n",
       "\n",
       "        CR_PROD_CNT_VCU  REST_AVG_CUR  AMOUNT_RUB_NAS_PRC  \\\n",
       "ID                                                          \n",
       "146841        -0.169589      0.477531           -0.248485   \n",
       "146842        -0.169589     -0.330458           -0.248485   \n",
       "146843        -0.169589      0.247411           -0.248485   \n",
       "146844        -0.169589     -0.124857           -0.248485   \n",
       "146845        -0.169589      0.029532           -0.248485   \n",
       "...                 ...           ...                 ...   \n",
       "590822        -0.169589     -0.301613           -0.248485   \n",
       "590823        -0.169589      1.927086            2.804227   \n",
       "590825        -0.169589      0.843853            0.113815   \n",
       "590826        -0.169589     -0.288932            3.034981   \n",
       "590828        -0.169589     -0.292957           -0.248485   \n",
       "\n",
       "        TRANS_COUNT_SUP_PRC  ...  PACK_103  PACK_104  PACK_105  PACK_107  \\\n",
       "ID                           ...                                           \n",
       "146841            -1.004598  ...         0         0         0         0   \n",
       "146842             1.446347  ...         0         0         0         0   \n",
       "146843            -1.004598  ...         0         0         0         0   \n",
       "146844            -1.004598  ...         0         0         0         0   \n",
       "146845            -1.004598  ...         0         0         0         0   \n",
       "...                     ...  ...       ...       ...       ...       ...   \n",
       "590822            -1.004598  ...         0         1         0         0   \n",
       "590823            -1.004598  ...         0         1         0         0   \n",
       "590825             0.135764  ...         0         0         0         0   \n",
       "590826            -1.004598  ...         0         0         0         0   \n",
       "590828            -1.004598  ...         0         0         0         0   \n",
       "\n",
       "        PACK_108  PACK_109  PACK_301  PACK_k01  PACK_m01  PACK_o01  \n",
       "ID                                                                  \n",
       "146841         0         0         0         1         0         0  \n",
       "146842         0         0         0         0         0         0  \n",
       "146843         0         0         0         0         0         0  \n",
       "146844         0         0         0         1         0         0  \n",
       "146845         0         0         0         0         0         0  \n",
       "...          ...       ...       ...       ...       ...       ...  \n",
       "590822         0         0         0         0         0         0  \n",
       "590823         0         0         0         0         0         0  \n",
       "590825         0         0         0         1         0         0  \n",
       "590826         0         0         0         0         0         1  \n",
       "590828         0         0         0         1         0         0  \n",
       "\n",
       "[355190 rows x 283 columns]"
      ]
     },
     "execution_count": 3,
     "metadata": {},
     "output_type": "execute_result"
    }
   ],
   "source": [
    "X = df.drop(columns = 'TARGET'); X"
   ]
  },
  {
   "cell_type": "code",
   "execution_count": 4,
   "id": "8f9127e6",
   "metadata": {},
   "outputs": [],
   "source": [
    "y = df.TARGET"
   ]
  },
  {
   "cell_type": "code",
   "execution_count": 5,
   "id": "c5fe3dff",
   "metadata": {},
   "outputs": [],
   "source": [
    "X_train, X_test, y_train, y_test = train_test_split(X, y, \n",
    "                                                    test_size=0.33,\n",
    "                                                    random_state=8,\n",
    "                                                   shuffle=True,\n",
    "                                                   stratify=y)"
   ]
  },
  {
   "cell_type": "code",
   "execution_count": 6,
   "id": "4052c72d",
   "metadata": {},
   "outputs": [],
   "source": [
    "from sklearn.ensemble import RandomForestClassifier"
   ]
  },
  {
   "cell_type": "code",
   "execution_count": 7,
   "id": "be39353b",
   "metadata": {},
   "outputs": [],
   "source": [
    "params = {'n_estimators':[200, 300, 400], \n",
    "          'max_depth': [10, 50, None],\n",
    "         'max_samples': [20000, None]}"
   ]
  },
  {
   "cell_type": "code",
   "execution_count": 8,
   "id": "7624056d",
   "metadata": {},
   "outputs": [
    {
     "name": "stdout",
     "output_type": "stream",
     "text": [
      "CPU times: total: 5min 8s\n",
      "Wall time: 18min 42s\n"
     ]
    }
   ],
   "source": [
    "%%time\n",
    "estimator = RandomForestClassifier(criterion='gini', \n",
    "                                   max_features='sqrt', \n",
    "                                   bootstrap=True, \n",
    "                                   oob_score=False, \n",
    "                                   n_jobs=-1,\n",
    "                                   random_state=8, \n",
    "                                   class_weight='balanced_subsample')\n",
    "forest_clf = GridSearchCV(estimator=estimator,\n",
    "                          param_grid=params,\n",
    "                          scoring='balanced_accuracy', \n",
    "                          n_jobs=-1,\n",
    "                          refit=True,\n",
    "                          cv=2).fit(X_train, y_train)"
   ]
  },
  {
   "cell_type": "code",
   "execution_count": 9,
   "id": "376026ee",
   "metadata": {},
   "outputs": [
    {
     "data": {
      "text/plain": [
       "0.7188585271804502"
      ]
     },
     "execution_count": 9,
     "metadata": {},
     "output_type": "execute_result"
    }
   ],
   "source": [
    "forest_clf.best_score_"
   ]
  },
  {
   "cell_type": "code",
   "execution_count": 10,
   "id": "dff6c04f",
   "metadata": {
    "scrolled": false
   },
   "outputs": [
    {
     "data": {
      "text/plain": [
       "{'max_depth': 10, 'max_samples': None, 'n_estimators': 400}"
      ]
     },
     "execution_count": 10,
     "metadata": {},
     "output_type": "execute_result"
    }
   ],
   "source": [
    "forest_clf.best_params_"
   ]
  },
  {
   "cell_type": "code",
   "execution_count": 11,
   "id": "c6d46ff3",
   "metadata": {},
   "outputs": [],
   "source": [
    "params = {'n_estimators':[350, 400, 500, 600], \n",
    "          'max_depth': [5, 10, 20],\n",
    "         'max_samples': [None]}"
   ]
  },
  {
   "cell_type": "code",
   "execution_count": 12,
   "id": "d88fa340",
   "metadata": {},
   "outputs": [
    {
     "name": "stdout",
     "output_type": "stream",
     "text": [
      "CPU times: total: 7min 40s\n",
      "Wall time: 18min 50s\n"
     ]
    }
   ],
   "source": [
    "%%time\n",
    "estimator = RandomForestClassifier(criterion='gini', \n",
    "                                   max_features='sqrt', \n",
    "                                   bootstrap=True, \n",
    "                                   oob_score=False, \n",
    "                                   n_jobs=-1,\n",
    "                                   random_state=8, \n",
    "                                   class_weight='balanced_subsample')\n",
    "forest_clf = GridSearchCV(estimator=estimator,\n",
    "                          param_grid=params,\n",
    "                          scoring='balanced_accuracy', \n",
    "                          n_jobs=-1,\n",
    "                          refit=True,\n",
    "                          cv=2).fit(X_train, y_train)"
   ]
  },
  {
   "cell_type": "code",
   "execution_count": 13,
   "id": "fb853997",
   "metadata": {
    "scrolled": true
   },
   "outputs": [
    {
     "data": {
      "text/plain": [
       "0.7195510868292379"
      ]
     },
     "execution_count": 13,
     "metadata": {},
     "output_type": "execute_result"
    }
   ],
   "source": [
    "forest_clf.best_score_"
   ]
  },
  {
   "cell_type": "code",
   "execution_count": 14,
   "id": "1f8476a2",
   "metadata": {
    "scrolled": false
   },
   "outputs": [
    {
     "data": {
      "text/plain": [
       "{'max_depth': 10, 'max_samples': None, 'n_estimators': 600}"
      ]
     },
     "execution_count": 14,
     "metadata": {},
     "output_type": "execute_result"
    }
   ],
   "source": [
    "forest_clf.best_params_"
   ]
  },
  {
   "cell_type": "code",
   "execution_count": 15,
   "id": "3386271c",
   "metadata": {},
   "outputs": [],
   "source": [
    "best_forest_clf = forest_clf.best_estimator_"
   ]
  },
  {
   "cell_type": "code",
   "execution_count": 16,
   "id": "5b3f49a5",
   "metadata": {},
   "outputs": [],
   "source": [
    "y_pred = best_forest_clf.predict(X_test)"
   ]
  },
  {
   "cell_type": "code",
   "execution_count": 17,
   "id": "ec9888c0",
   "metadata": {},
   "outputs": [
    {
     "data": {
      "text/plain": [
       "0.7212254613396125"
      ]
     },
     "execution_count": 17,
     "metadata": {},
     "output_type": "execute_result"
    }
   ],
   "source": [
    "metrics.accuracy_score(y_test, y_pred)"
   ]
  },
  {
   "cell_type": "code",
   "execution_count": 18,
   "id": "248011b5",
   "metadata": {},
   "outputs": [
    {
     "data": {
      "text/plain": [
       "0.7211253501611661"
      ]
     },
     "execution_count": 18,
     "metadata": {},
     "output_type": "execute_result"
    }
   ],
   "source": [
    "metrics.balanced_accuracy_score(y_test, y_pred)"
   ]
  },
  {
   "cell_type": "code",
   "execution_count": 19,
   "id": "77b3d081",
   "metadata": {},
   "outputs": [
    {
     "data": {
      "text/plain": [
       "0.7210057621791514"
      ]
     },
     "execution_count": 19,
     "metadata": {},
     "output_type": "execute_result"
    }
   ],
   "source": [
    "metrics.recall_score(y_test, y_pred)"
   ]
  },
  {
   "cell_type": "code",
   "execution_count": 20,
   "id": "8598bc3f",
   "metadata": {},
   "outputs": [],
   "source": [
    "y_pred_proba = best_forest_clf.predict_proba(X_test)"
   ]
  },
  {
   "cell_type": "code",
   "execution_count": 21,
   "id": "b4d39f03",
   "metadata": {
    "scrolled": true
   },
   "outputs": [
    {
     "data": {
      "text/plain": [
       "0.7958626992434866"
      ]
     },
     "execution_count": 21,
     "metadata": {},
     "output_type": "execute_result"
    }
   ],
   "source": [
    "metrics.roc_auc_score(y_test, y_pred_proba[:, 1])"
   ]
  },
  {
   "cell_type": "code",
   "execution_count": 22,
   "id": "06d1d63f",
   "metadata": {},
   "outputs": [
    {
     "data": {
      "text/plain": [
       "array([[77655, 30013],\n",
       "       [ 2663,  6882]], dtype=int64)"
      ]
     },
     "execution_count": 22,
     "metadata": {},
     "output_type": "execute_result"
    }
   ],
   "source": [
    "metrics.confusion_matrix(y_test, y_pred)"
   ]
  },
  {
   "cell_type": "code",
   "execution_count": 23,
   "id": "b71ca361",
   "metadata": {},
   "outputs": [
    {
     "data": {
      "text/plain": [
       "array([[0.72124494, 0.27875506],\n",
       "       [0.27899424, 0.72100576]])"
      ]
     },
     "execution_count": 23,
     "metadata": {},
     "output_type": "execute_result"
    }
   ],
   "source": [
    "metrics.confusion_matrix(y_test, y_pred, normalize='true')"
   ]
  },
  {
   "cell_type": "markdown",
   "id": "2d5b16f7",
   "metadata": {},
   "source": [
    "### _Additional features (client job positions) did not improve results so I will not use them in the following steps_"
   ]
  },
  {
   "cell_type": "code",
   "execution_count": null,
   "id": "bbc43785",
   "metadata": {},
   "outputs": [],
   "source": []
  },
  {
   "cell_type": "markdown",
   "id": "ec7e07b8",
   "metadata": {},
   "source": [
    "# Continue model selection without data on client job positions"
   ]
  },
  {
   "cell_type": "markdown",
   "id": "10551407",
   "metadata": {},
   "source": [
    "## Gradient boosting"
   ]
  },
  {
   "cell_type": "code",
   "execution_count": 9,
   "id": "9742e970",
   "metadata": {},
   "outputs": [],
   "source": [
    "from sklearn.ensemble import HistGradientBoostingClassifier"
   ]
  },
  {
   "cell_type": "code",
   "execution_count": 10,
   "id": "cdd48d6f",
   "metadata": {},
   "outputs": [],
   "source": [
    "params = {'learning_rate': [0.01, 0.1],\n",
    "          'max_iter': [100, 200, 300],\n",
    "          'max_leaf_nodes':[2, 5, 31], \n",
    "          'l2_regularization': [0.0, 0.1]}"
   ]
  },
  {
   "cell_type": "code",
   "execution_count": 12,
   "id": "67f318de",
   "metadata": {},
   "outputs": [
    {
     "name": "stdout",
     "output_type": "stream",
     "text": [
      "CPU times: total: 1min 51s\n",
      "Wall time: 26min 42s\n"
     ]
    }
   ],
   "source": [
    "%%time\n",
    "estimator = HistGradientBoostingClassifier(loss='log_loss', \n",
    "                                           scoring='loss', \n",
    "                                           random_state=8)\n",
    "boost_clf = GridSearchCV(estimator=estimator,\n",
    "                          param_grid=params,\n",
    "                          scoring='balanced_accuracy', \n",
    "                          n_jobs=-1,\n",
    "                          refit=True,\n",
    "                          cv=3).fit(X_train, y_train)"
   ]
  },
  {
   "cell_type": "code",
   "execution_count": 13,
   "id": "e0033721",
   "metadata": {},
   "outputs": [
    {
     "data": {
      "text/plain": [
       "0.5227319219783443"
      ]
     },
     "execution_count": 13,
     "metadata": {},
     "output_type": "execute_result"
    }
   ],
   "source": [
    "boost_clf.best_score_"
   ]
  },
  {
   "cell_type": "code",
   "execution_count": 14,
   "id": "8ddffb10",
   "metadata": {
    "scrolled": false
   },
   "outputs": [
    {
     "data": {
      "text/plain": [
       "{'l2_regularization': 0.1,\n",
       " 'learning_rate': 0.1,\n",
       " 'max_iter': 200,\n",
       " 'max_leaf_nodes': 31}"
      ]
     },
     "execution_count": 14,
     "metadata": {},
     "output_type": "execute_result"
    }
   ],
   "source": [
    "boost_clf.best_params_"
   ]
  },
  {
   "cell_type": "code",
   "execution_count": 36,
   "id": "d718c9ec",
   "metadata": {
    "scrolled": false
   },
   "outputs": [
    {
     "data": {
      "text/plain": [
       "0.7236654347950653"
      ]
     },
     "execution_count": 36,
     "metadata": {},
     "output_type": "execute_result"
    }
   ],
   "source": [
    "boost_clf.best_score_"
   ]
  },
  {
   "cell_type": "code",
   "execution_count": 37,
   "id": "9a63fd51",
   "metadata": {
    "scrolled": false
   },
   "outputs": [
    {
     "data": {
      "text/plain": [
       "{'max_depth': 10, 'max_samples': None, 'n_estimators': 600}"
      ]
     },
     "execution_count": 37,
     "metadata": {},
     "output_type": "execute_result"
    }
   ],
   "source": [
    "boost_clf.best_params_"
   ]
  },
  {
   "cell_type": "code",
   "execution_count": 15,
   "id": "66e8dbb4",
   "metadata": {},
   "outputs": [],
   "source": [
    "best_boost_clf = boost_clf.best_estimator_"
   ]
  },
  {
   "cell_type": "code",
   "execution_count": 16,
   "id": "1aafa39b",
   "metadata": {},
   "outputs": [],
   "source": [
    "y_pred = best_boost_clf.predict(X_test)"
   ]
  },
  {
   "cell_type": "code",
   "execution_count": 17,
   "id": "fc45b081",
   "metadata": {},
   "outputs": [
    {
     "data": {
      "text/plain": [
       "0.9190362843711875"
      ]
     },
     "execution_count": 17,
     "metadata": {},
     "output_type": "execute_result"
    }
   ],
   "source": [
    "metrics.accuracy_score(y_test, y_pred)"
   ]
  },
  {
   "cell_type": "code",
   "execution_count": 18,
   "id": "0e75573c",
   "metadata": {},
   "outputs": [
    {
     "data": {
      "text/plain": [
       "0.5228839574609124"
      ]
     },
     "execution_count": 18,
     "metadata": {},
     "output_type": "execute_result"
    }
   ],
   "source": [
    "metrics.balanced_accuracy_score(y_test, y_pred)"
   ]
  },
  {
   "cell_type": "code",
   "execution_count": 19,
   "id": "29203f9e",
   "metadata": {},
   "outputs": [
    {
     "data": {
      "text/plain": [
       "0.04965950759559979"
      ]
     },
     "execution_count": 19,
     "metadata": {},
     "output_type": "execute_result"
    }
   ],
   "source": [
    "metrics.recall_score(y_test, y_pred)"
   ]
  },
  {
   "cell_type": "code",
   "execution_count": 20,
   "id": "7c9d5b9d",
   "metadata": {},
   "outputs": [],
   "source": [
    "y_pred_proba = best_boost_clf.predict_proba(X_test)"
   ]
  },
  {
   "cell_type": "code",
   "execution_count": 21,
   "id": "33bcb153",
   "metadata": {
    "scrolled": true
   },
   "outputs": [
    {
     "data": {
      "text/plain": [
       "0.8476699023731898"
      ]
     },
     "execution_count": 21,
     "metadata": {},
     "output_type": "execute_result"
    }
   ],
   "source": [
    "metrics.roc_auc_score(y_test, y_pred_proba[:, 1])"
   ]
  },
  {
   "cell_type": "code",
   "execution_count": 22,
   "id": "c8e1e400",
   "metadata": {},
   "outputs": [
    {
     "data": {
      "text/plain": [
       "array([[107249,    419],\n",
       "       [  9071,    474]], dtype=int64)"
      ]
     },
     "execution_count": 22,
     "metadata": {},
     "output_type": "execute_result"
    }
   ],
   "source": [
    "metrics.confusion_matrix(y_test, y_pred)"
   ]
  },
  {
   "cell_type": "code",
   "execution_count": 23,
   "id": "b6a826e9",
   "metadata": {},
   "outputs": [
    {
     "data": {
      "text/plain": [
       "array([[0.99610841, 0.00389159],\n",
       "       [0.95034049, 0.04965951]])"
      ]
     },
     "execution_count": 23,
     "metadata": {},
     "output_type": "execute_result"
    }
   ],
   "source": [
    "metrics.confusion_matrix(y_test, y_pred, normalize='true')"
   ]
  },
  {
   "cell_type": "markdown",
   "id": "137782db",
   "metadata": {},
   "source": [
    "### _Recall is much worse_"
   ]
  },
  {
   "cell_type": "code",
   "execution_count": null,
   "id": "71ceaa66",
   "metadata": {},
   "outputs": [],
   "source": []
  },
  {
   "cell_type": "markdown",
   "id": "496765a8",
   "metadata": {},
   "source": [
    "## Decision tree"
   ]
  },
  {
   "cell_type": "code",
   "execution_count": 10,
   "id": "8c254b72",
   "metadata": {},
   "outputs": [],
   "source": [
    "from sklearn.tree import DecisionTreeClassifier"
   ]
  },
  {
   "cell_type": "code",
   "execution_count": 25,
   "id": "c5a04f74",
   "metadata": {},
   "outputs": [],
   "source": [
    "params = {'max_depth': [10, 50, 100, None],\n",
    "         'max_features': ['sqrt', None]}"
   ]
  },
  {
   "cell_type": "code",
   "execution_count": 26,
   "id": "fa6799a8",
   "metadata": {},
   "outputs": [
    {
     "name": "stdout",
     "output_type": "stream",
     "text": [
      "CPU times: total: 11.3 s\n",
      "Wall time: 1min 14s\n"
     ]
    }
   ],
   "source": [
    "%%time\n",
    "estimator = DecisionTreeClassifier(criterion='gini',\n",
    "                                   random_state=8, \n",
    "                                   class_weight='balanced')\n",
    "tree_clf = GridSearchCV(estimator=estimator,\n",
    "                          param_grid=params,\n",
    "                          scoring='balanced_accuracy', \n",
    "                          n_jobs=-1,\n",
    "                          refit=True,\n",
    "                          cv=3).fit(X_train, y_train)"
   ]
  },
  {
   "cell_type": "code",
   "execution_count": 27,
   "id": "e55a5491",
   "metadata": {},
   "outputs": [
    {
     "data": {
      "text/plain": [
       "0.7297889758223342"
      ]
     },
     "execution_count": 27,
     "metadata": {},
     "output_type": "execute_result"
    }
   ],
   "source": [
    "tree_clf.best_score_"
   ]
  },
  {
   "cell_type": "code",
   "execution_count": 29,
   "id": "d6a454ee",
   "metadata": {
    "scrolled": false
   },
   "outputs": [
    {
     "data": {
      "text/plain": [
       "{'max_depth': 10, 'max_features': None}"
      ]
     },
     "execution_count": 29,
     "metadata": {},
     "output_type": "execute_result"
    }
   ],
   "source": [
    "tree_clf.best_params_"
   ]
  },
  {
   "cell_type": "code",
   "execution_count": 33,
   "id": "a8c22839",
   "metadata": {},
   "outputs": [],
   "source": [
    "params = {'max_depth': [5, 10, 15, 20, 30],\n",
    "         'max_features': [None]}"
   ]
  },
  {
   "cell_type": "code",
   "execution_count": 34,
   "id": "d868a0ac",
   "metadata": {
    "scrolled": false
   },
   "outputs": [
    {
     "name": "stdout",
     "output_type": "stream",
     "text": [
      "CPU times: total: 11.2 s\n",
      "Wall time: 1min 3s\n"
     ]
    }
   ],
   "source": [
    "%%time\n",
    "estimator = DecisionTreeClassifier(criterion='gini',\n",
    "                                   random_state=8, \n",
    "                                   class_weight='balanced')\n",
    "tree_clf = GridSearchCV(estimator=estimator,\n",
    "                          param_grid=params,\n",
    "                          scoring='balanced_accuracy', \n",
    "                          n_jobs=-1,\n",
    "                          refit=True,\n",
    "                          cv=3).fit(X_train, y_train)"
   ]
  },
  {
   "cell_type": "code",
   "execution_count": 36,
   "id": "e71872f1",
   "metadata": {
    "scrolled": true
   },
   "outputs": [
    {
     "data": {
      "text/plain": [
       "0.7297889758223342"
      ]
     },
     "execution_count": 36,
     "metadata": {},
     "output_type": "execute_result"
    }
   ],
   "source": [
    "tree_clf.best_score_"
   ]
  },
  {
   "cell_type": "code",
   "execution_count": 37,
   "id": "c30177bf",
   "metadata": {
    "scrolled": false
   },
   "outputs": [
    {
     "data": {
      "text/plain": [
       "{'max_depth': 10, 'max_features': None}"
      ]
     },
     "execution_count": 37,
     "metadata": {},
     "output_type": "execute_result"
    }
   ],
   "source": [
    "tree_clf.best_params_"
   ]
  },
  {
   "cell_type": "code",
   "execution_count": 38,
   "id": "85140274",
   "metadata": {},
   "outputs": [],
   "source": [
    "best_tree_clf = tree_clf.best_estimator_"
   ]
  },
  {
   "cell_type": "code",
   "execution_count": 39,
   "id": "f7f527a0",
   "metadata": {},
   "outputs": [],
   "source": [
    "y_pred = best_tree_clf.predict(X_test)"
   ]
  },
  {
   "cell_type": "code",
   "execution_count": 40,
   "id": "a99c30c1",
   "metadata": {},
   "outputs": [
    {
     "data": {
      "text/plain": [
       "0.7282553982919984"
      ]
     },
     "execution_count": 40,
     "metadata": {},
     "output_type": "execute_result"
    }
   ],
   "source": [
    "metrics.accuracy_score(y_test, y_pred)"
   ]
  },
  {
   "cell_type": "code",
   "execution_count": 41,
   "id": "6a8a3ebe",
   "metadata": {},
   "outputs": [
    {
     "data": {
      "text/plain": [
       "0.7375074275726403"
      ]
     },
     "execution_count": 41,
     "metadata": {},
     "output_type": "execute_result"
    }
   ],
   "source": [
    "metrics.balanced_accuracy_score(y_test, y_pred)"
   ]
  },
  {
   "cell_type": "code",
   "execution_count": 42,
   "id": "e0d0bbff",
   "metadata": {},
   "outputs": [
    {
     "data": {
      "text/plain": [
       "0.748559455212153"
      ]
     },
     "execution_count": 42,
     "metadata": {},
     "output_type": "execute_result"
    }
   ],
   "source": [
    "metrics.recall_score(y_test, y_pred)"
   ]
  },
  {
   "cell_type": "code",
   "execution_count": 44,
   "id": "f80daa7c",
   "metadata": {},
   "outputs": [],
   "source": [
    "y_pred_proba = best_tree_clf.predict_proba(X_test)"
   ]
  },
  {
   "cell_type": "code",
   "execution_count": 45,
   "id": "9693e4c1",
   "metadata": {
    "scrolled": true
   },
   "outputs": [
    {
     "data": {
      "text/plain": [
       "0.7953762797158126"
      ]
     },
     "execution_count": 45,
     "metadata": {},
     "output_type": "execute_result"
    }
   ],
   "source": [
    "metrics.roc_auc_score(y_test, y_pred_proba[:, 1])"
   ]
  },
  {
   "cell_type": "code",
   "execution_count": 46,
   "id": "0081a932",
   "metadata": {},
   "outputs": [
    {
     "data": {
      "text/plain": [
       "array([[78216, 29452],\n",
       "       [ 2400,  7145]], dtype=int64)"
      ]
     },
     "execution_count": 46,
     "metadata": {},
     "output_type": "execute_result"
    }
   ],
   "source": [
    "metrics.confusion_matrix(y_test, y_pred)"
   ]
  },
  {
   "cell_type": "code",
   "execution_count": 47,
   "id": "d6c051db",
   "metadata": {
    "scrolled": true
   },
   "outputs": [
    {
     "data": {
      "text/plain": [
       "array([[0.7264554 , 0.2735446 ],\n",
       "       [0.25144054, 0.74855946]])"
      ]
     },
     "execution_count": 47,
     "metadata": {},
     "output_type": "execute_result"
    }
   ],
   "source": [
    "metrics.confusion_matrix(y_test, y_pred, normalize='true')"
   ]
  },
  {
   "cell_type": "markdown",
   "id": "a1568bab",
   "metadata": {},
   "source": [
    "### _Results are close to the results of the random forest classifier, even slightly better, with much faster training, which can be explained by a large size of the dataset which makes for small variance._"
   ]
  },
  {
   "cell_type": "markdown",
   "id": "8fd8ebf3",
   "metadata": {},
   "source": [
    "## Ada boost"
   ]
  },
  {
   "cell_type": "code",
   "execution_count": 8,
   "id": "9b50d84a",
   "metadata": {},
   "outputs": [],
   "source": [
    "from sklearn.ensemble import AdaBoostClassifier"
   ]
  },
  {
   "cell_type": "code",
   "execution_count": 74,
   "id": "4740ee27",
   "metadata": {},
   "outputs": [],
   "source": [
    "params = {'n_estimators': [1, 5, 10, 20, 50],\n",
    "         'learning_rate': [0.1, 0.5, 1, 5, 10],\n",
    "         'base_estimator': [\n",
    "             DecisionTreeClassifier(random_state=8, \n",
    "                                    class_weight='balanced',\n",
    "                                    max_depth=1),\n",
    "             DecisionTreeClassifier(random_state=8, \n",
    "                                    class_weight='balanced',\n",
    "                                    max_depth=5),\n",
    "             DecisionTreeClassifier(random_state=8, \n",
    "                                    class_weight='balanced',\n",
    "                                    max_depth=10),\n",
    "             DecisionTreeClassifier(random_state=8, \n",
    "                                    class_weight='balanced',\n",
    "                                    max_depth=20)\n",
    "         ]}"
   ]
  },
  {
   "cell_type": "code",
   "execution_count": 75,
   "id": "000d8adc",
   "metadata": {
    "scrolled": true
   },
   "outputs": [
    {
     "name": "stdout",
     "output_type": "stream",
     "text": [
      "CPU times: total: 4min 40s\n",
      "Wall time: 3h 7min 15s\n"
     ]
    }
   ],
   "source": [
    "%%time\n",
    "ada_clf = GridSearchCV(estimator=AdaBoostClassifier(random_state=8),\n",
    "                       param_grid=params,\n",
    "                       scoring='balanced_accuracy', \n",
    "                       n_jobs=-1,\n",
    "                       refit=True,\n",
    "                       cv=4).fit(X_train, y_train)"
   ]
  },
  {
   "cell_type": "code",
   "execution_count": 76,
   "id": "de215830",
   "metadata": {
    "scrolled": true
   },
   "outputs": [
    {
     "data": {
      "text/plain": [
       "0.7547875784908085"
      ]
     },
     "execution_count": 76,
     "metadata": {},
     "output_type": "execute_result"
    }
   ],
   "source": [
    "ada_clf.best_score_"
   ]
  },
  {
   "cell_type": "code",
   "execution_count": 77,
   "id": "e637da0f",
   "metadata": {
    "scrolled": true
   },
   "outputs": [
    {
     "data": {
      "text/plain": [
       "{'base_estimator': DecisionTreeClassifier(class_weight='balanced', max_depth=5, random_state=8),\n",
       " 'learning_rate': 0.1,\n",
       " 'n_estimators': 50}"
      ]
     },
     "execution_count": 77,
     "metadata": {},
     "output_type": "execute_result"
    }
   ],
   "source": [
    "ada_clf.best_params_"
   ]
  },
  {
   "cell_type": "code",
   "execution_count": 11,
   "id": "0a05224a",
   "metadata": {},
   "outputs": [],
   "source": [
    "params = {'n_estimators': [30, 50, 70, 100],\n",
    "         'learning_rate': [0.01, 0.05, 0.1],\n",
    "         'base_estimator': [\n",
    "             DecisionTreeClassifier(random_state=8, \n",
    "                                    class_weight='balanced',\n",
    "                                    max_depth=3),\n",
    "             DecisionTreeClassifier(random_state=8, \n",
    "                                    class_weight='balanced',\n",
    "                                    max_depth=5),\n",
    "             DecisionTreeClassifier(random_state=8, \n",
    "                                    class_weight='balanced',\n",
    "                                    max_depth=7)\n",
    "         ]}"
   ]
  },
  {
   "cell_type": "code",
   "execution_count": 12,
   "id": "49d7db48",
   "metadata": {
    "scrolled": true
   },
   "outputs": [
    {
     "name": "stdout",
     "output_type": "stream",
     "text": [
      "CPU times: total: 5min 36s\n",
      "Wall time: 2h 20min 28s\n"
     ]
    }
   ],
   "source": [
    "%%time\n",
    "ada_clf = GridSearchCV(estimator=AdaBoostClassifier(random_state=8),\n",
    "                       param_grid=params,\n",
    "                       scoring='balanced_accuracy', \n",
    "                       n_jobs=-1,\n",
    "                       refit=True,\n",
    "                       cv=3).fit(X_train, y_train)"
   ]
  },
  {
   "cell_type": "code",
   "execution_count": 13,
   "id": "01955e08",
   "metadata": {
    "scrolled": true
   },
   "outputs": [
    {
     "data": {
      "text/plain": [
       "0.7547461916924801"
      ]
     },
     "execution_count": 13,
     "metadata": {},
     "output_type": "execute_result"
    }
   ],
   "source": [
    "ada_clf.best_score_"
   ]
  },
  {
   "cell_type": "code",
   "execution_count": 14,
   "id": "f3baaf27",
   "metadata": {
    "scrolled": true
   },
   "outputs": [
    {
     "data": {
      "text/plain": [
       "{'base_estimator': DecisionTreeClassifier(class_weight='balanced', max_depth=3, random_state=8),\n",
       " 'learning_rate': 0.1,\n",
       " 'n_estimators': 100}"
      ]
     },
     "execution_count": 14,
     "metadata": {},
     "output_type": "execute_result"
    }
   ],
   "source": [
    "ada_clf.best_params_"
   ]
  },
  {
   "cell_type": "code",
   "execution_count": 15,
   "id": "4057b68f",
   "metadata": {},
   "outputs": [],
   "source": [
    "best_ada_clf = ada_clf.best_estimator_"
   ]
  },
  {
   "cell_type": "code",
   "execution_count": 16,
   "id": "9f81ae51",
   "metadata": {},
   "outputs": [],
   "source": [
    "y_pred = best_ada_clf.predict(X_test)"
   ]
  },
  {
   "cell_type": "code",
   "execution_count": 17,
   "id": "6367c6c3",
   "metadata": {},
   "outputs": [
    {
     "data": {
      "text/plain": [
       "0.7081040498920769"
      ]
     },
     "execution_count": 17,
     "metadata": {},
     "output_type": "execute_result"
    }
   ],
   "source": [
    "metrics.accuracy_score(y_test, y_pred)"
   ]
  },
  {
   "cell_type": "code",
   "execution_count": 18,
   "id": "539eb366",
   "metadata": {},
   "outputs": [
    {
     "data": {
      "text/plain": [
       "0.758142099630603"
      ]
     },
     "execution_count": 18,
     "metadata": {},
     "output_type": "execute_result"
    }
   ],
   "source": [
    "metrics.balanced_accuracy_score(y_test, y_pred)"
   ]
  },
  {
   "cell_type": "code",
   "execution_count": 19,
   "id": "7fa858ab",
   "metadata": {},
   "outputs": [
    {
     "data": {
      "text/plain": [
       "0.8179151388161341"
      ]
     },
     "execution_count": 19,
     "metadata": {},
     "output_type": "execute_result"
    }
   ],
   "source": [
    "metrics.recall_score(y_test, y_pred)"
   ]
  },
  {
   "cell_type": "code",
   "execution_count": 21,
   "id": "83e7bd3a",
   "metadata": {},
   "outputs": [],
   "source": [
    "y_pred_proba = best_ada_clf.predict_proba(X_test)"
   ]
  },
  {
   "cell_type": "code",
   "execution_count": 22,
   "id": "5ae3028a",
   "metadata": {
    "scrolled": true
   },
   "outputs": [
    {
     "data": {
      "text/plain": [
       "0.8304278588353197"
      ]
     },
     "execution_count": 22,
     "metadata": {},
     "output_type": "execute_result"
    }
   ],
   "source": [
    "metrics.roc_auc_score(y_test, y_pred_proba[:, 1])"
   ]
  },
  {
   "cell_type": "code",
   "execution_count": 23,
   "id": "635d65a8",
   "metadata": {},
   "outputs": [
    {
     "data": {
      "text/plain": [
       "array([[75192, 32476],\n",
       "       [ 1738,  7807]], dtype=int64)"
      ]
     },
     "execution_count": 23,
     "metadata": {},
     "output_type": "execute_result"
    }
   ],
   "source": [
    "metrics.confusion_matrix(y_test, y_pred)"
   ]
  },
  {
   "cell_type": "code",
   "execution_count": 24,
   "id": "ef01d4b0",
   "metadata": {
    "scrolled": false
   },
   "outputs": [
    {
     "data": {
      "text/plain": [
       "array([[0.69836906, 0.30163094],\n",
       "       [0.18208486, 0.81791514]])"
      ]
     },
     "execution_count": 24,
     "metadata": {},
     "output_type": "execute_result"
    }
   ],
   "source": [
    "metrics.confusion_matrix(y_test, y_pred, normalize='true')"
   ]
  },
  {
   "cell_type": "markdown",
   "id": "3305e494",
   "metadata": {},
   "source": [
    "### _Imporoved recall and ROC_AUC_"
   ]
  },
  {
   "cell_type": "code",
   "execution_count": null,
   "id": "8b51f5d0",
   "metadata": {},
   "outputs": [],
   "source": []
  }
 ],
 "metadata": {
  "kernelspec": {
   "display_name": "Python 3 (ipykernel)",
   "language": "python",
   "name": "python3"
  },
  "language_info": {
   "codemirror_mode": {
    "name": "ipython",
    "version": 3
   },
   "file_extension": ".py",
   "mimetype": "text/x-python",
   "name": "python",
   "nbconvert_exporter": "python",
   "pygments_lexer": "ipython3",
   "version": "3.8.5"
  }
 },
 "nbformat": 4,
 "nbformat_minor": 5
}
