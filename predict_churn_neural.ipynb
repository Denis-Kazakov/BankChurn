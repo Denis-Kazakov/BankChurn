{
 "cells": [
  {
   "cell_type": "code",
   "execution_count": 11,
   "metadata": {
    "executionInfo": {
     "elapsed": 4,
     "status": "ok",
     "timestamp": 1667228619220,
     "user": {
      "displayName": "Denis Kazakov",
      "userId": "06041907226919027280"
     },
     "user_tz": -180
    },
    "id": "nUWqyvtMQaKJ"
   },
   "outputs": [],
   "source": [
    "import pandas as pd\n",
    "import numpy as np\n",
    "from sklearn.model_selection import train_test_split\n",
    "import tensorflow as tf"
   ]
  },
  {
   "cell_type": "code",
   "execution_count": 2,
   "metadata": {
    "colab": {
     "base_uri": "https://localhost:8080/"
    },
    "executionInfo": {
     "elapsed": 25069,
     "status": "ok",
     "timestamp": 1667227180833,
     "user": {
      "displayName": "Denis Kazakov",
      "userId": "06041907226919027280"
     },
     "user_tz": -180
    },
    "id": "1zs7Wq3_Qgjn",
    "outputId": "b4f99e5c-504d-47e3-fe26-297d1328e5f3"
   },
   "outputs": [
    {
     "name": "stdout",
     "output_type": "stream",
     "text": [
      "Mounted at /content/drive\n"
     ]
    }
   ],
   "source": [
    "from google.colab import drive\n",
    "drive.mount('/content/drive')"
   ]
  },
  {
   "cell_type": "code",
   "execution_count": 3,
   "metadata": {
    "colab": {
     "base_uri": "https://localhost:8080/",
     "height": 519
    },
    "executionInfo": {
     "elapsed": 11391,
     "status": "ok",
     "timestamp": 1667227192219,
     "user": {
      "displayName": "Denis Kazakov",
      "userId": "06041907226919027280"
     },
     "user_tz": -180
    },
    "id": "liKr8_qTQgf-",
    "outputId": "4e60fb93-ea6a-4ade-d4c9-95e302faacfa"
   },
   "outputs": [
    {
     "data": {
      "text/html": [
       "\n",
       "  <div id=\"df-7e5ed12c-e077-4ac9-87e0-a56322d20826\">\n",
       "    <div class=\"colab-df-container\">\n",
       "      <div>\n",
       "<style scoped>\n",
       "    .dataframe tbody tr th:only-of-type {\n",
       "        vertical-align: middle;\n",
       "    }\n",
       "\n",
       "    .dataframe tbody tr th {\n",
       "        vertical-align: top;\n",
       "    }\n",
       "\n",
       "    .dataframe thead th {\n",
       "        text-align: right;\n",
       "    }\n",
       "</style>\n",
       "<table border=\"1\" class=\"dataframe\">\n",
       "  <thead>\n",
       "    <tr style=\"text-align: right;\">\n",
       "      <th></th>\n",
       "      <th>CR_PROD_CNT_IL</th>\n",
       "      <th>AMOUNT_RUB_CLO_PRC</th>\n",
       "      <th>TURNOVER_DYNAMIC_IL_1M</th>\n",
       "      <th>AMOUNT_RUB_SUP_PRC</th>\n",
       "      <th>REST_DYNAMIC_FDEP_1M</th>\n",
       "      <th>REST_DYNAMIC_SAVE_3M</th>\n",
       "      <th>CR_PROD_CNT_VCU</th>\n",
       "      <th>REST_AVG_CUR</th>\n",
       "      <th>AMOUNT_RUB_NAS_PRC</th>\n",
       "      <th>TRANS_COUNT_SUP_PRC</th>\n",
       "      <th>...</th>\n",
       "      <th>PACK_103</th>\n",
       "      <th>PACK_104</th>\n",
       "      <th>PACK_105</th>\n",
       "      <th>PACK_107</th>\n",
       "      <th>PACK_108</th>\n",
       "      <th>PACK_109</th>\n",
       "      <th>PACK_301</th>\n",
       "      <th>PACK_k01</th>\n",
       "      <th>PACK_m01</th>\n",
       "      <th>PACK_o01</th>\n",
       "    </tr>\n",
       "    <tr>\n",
       "      <th>ID</th>\n",
       "      <th></th>\n",
       "      <th></th>\n",
       "      <th></th>\n",
       "      <th></th>\n",
       "      <th></th>\n",
       "      <th></th>\n",
       "      <th></th>\n",
       "      <th></th>\n",
       "      <th></th>\n",
       "      <th></th>\n",
       "      <th></th>\n",
       "      <th></th>\n",
       "      <th></th>\n",
       "      <th></th>\n",
       "      <th></th>\n",
       "      <th></th>\n",
       "      <th></th>\n",
       "      <th></th>\n",
       "      <th></th>\n",
       "      <th></th>\n",
       "      <th></th>\n",
       "    </tr>\n",
       "  </thead>\n",
       "  <tbody>\n",
       "    <tr>\n",
       "      <th>146841</th>\n",
       "      <td>-0.243932</td>\n",
       "      <td>-0.380232</td>\n",
       "      <td>-0.044824</td>\n",
       "      <td>-0.582347</td>\n",
       "      <td>-0.05133</td>\n",
       "      <td>2.356500</td>\n",
       "      <td>-0.169589</td>\n",
       "      <td>0.477531</td>\n",
       "      <td>-0.248485</td>\n",
       "      <td>-1.004598</td>\n",
       "      <td>...</td>\n",
       "      <td>0</td>\n",
       "      <td>0</td>\n",
       "      <td>0</td>\n",
       "      <td>0</td>\n",
       "      <td>0</td>\n",
       "      <td>0</td>\n",
       "      <td>0</td>\n",
       "      <td>1</td>\n",
       "      <td>0</td>\n",
       "      <td>0</td>\n",
       "    </tr>\n",
       "    <tr>\n",
       "      <th>146842</th>\n",
       "      <td>-0.243932</td>\n",
       "      <td>0.016835</td>\n",
       "      <td>-0.044824</td>\n",
       "      <td>1.221828</td>\n",
       "      <td>-0.05133</td>\n",
       "      <td>-0.312371</td>\n",
       "      <td>-0.169589</td>\n",
       "      <td>-0.330458</td>\n",
       "      <td>-0.248485</td>\n",
       "      <td>1.446347</td>\n",
       "      <td>...</td>\n",
       "      <td>0</td>\n",
       "      <td>0</td>\n",
       "      <td>0</td>\n",
       "      <td>0</td>\n",
       "      <td>0</td>\n",
       "      <td>0</td>\n",
       "      <td>0</td>\n",
       "      <td>0</td>\n",
       "      <td>0</td>\n",
       "      <td>0</td>\n",
       "    </tr>\n",
       "    <tr>\n",
       "      <th>146843</th>\n",
       "      <td>-0.243932</td>\n",
       "      <td>-0.313313</td>\n",
       "      <td>-0.044824</td>\n",
       "      <td>-0.582347</td>\n",
       "      <td>-0.05133</td>\n",
       "      <td>-0.312371</td>\n",
       "      <td>-0.169589</td>\n",
       "      <td>0.247411</td>\n",
       "      <td>-0.248485</td>\n",
       "      <td>-1.004598</td>\n",
       "      <td>...</td>\n",
       "      <td>0</td>\n",
       "      <td>0</td>\n",
       "      <td>0</td>\n",
       "      <td>0</td>\n",
       "      <td>0</td>\n",
       "      <td>0</td>\n",
       "      <td>0</td>\n",
       "      <td>0</td>\n",
       "      <td>0</td>\n",
       "      <td>0</td>\n",
       "    </tr>\n",
       "    <tr>\n",
       "      <th>146844</th>\n",
       "      <td>-0.243932</td>\n",
       "      <td>-0.380232</td>\n",
       "      <td>-0.044824</td>\n",
       "      <td>-0.582347</td>\n",
       "      <td>-0.05133</td>\n",
       "      <td>-0.283428</td>\n",
       "      <td>-0.169589</td>\n",
       "      <td>-0.124857</td>\n",
       "      <td>-0.248485</td>\n",
       "      <td>-1.004598</td>\n",
       "      <td>...</td>\n",
       "      <td>0</td>\n",
       "      <td>0</td>\n",
       "      <td>0</td>\n",
       "      <td>0</td>\n",
       "      <td>0</td>\n",
       "      <td>0</td>\n",
       "      <td>0</td>\n",
       "      <td>1</td>\n",
       "      <td>0</td>\n",
       "      <td>0</td>\n",
       "    </tr>\n",
       "    <tr>\n",
       "      <th>146845</th>\n",
       "      <td>-0.243932</td>\n",
       "      <td>-0.380232</td>\n",
       "      <td>-0.044824</td>\n",
       "      <td>-0.582347</td>\n",
       "      <td>-0.05133</td>\n",
       "      <td>-0.312371</td>\n",
       "      <td>-0.169589</td>\n",
       "      <td>0.029532</td>\n",
       "      <td>-0.248485</td>\n",
       "      <td>-1.004598</td>\n",
       "      <td>...</td>\n",
       "      <td>0</td>\n",
       "      <td>0</td>\n",
       "      <td>0</td>\n",
       "      <td>0</td>\n",
       "      <td>0</td>\n",
       "      <td>0</td>\n",
       "      <td>0</td>\n",
       "      <td>0</td>\n",
       "      <td>0</td>\n",
       "      <td>0</td>\n",
       "    </tr>\n",
       "    <tr>\n",
       "      <th>...</th>\n",
       "      <td>...</td>\n",
       "      <td>...</td>\n",
       "      <td>...</td>\n",
       "      <td>...</td>\n",
       "      <td>...</td>\n",
       "      <td>...</td>\n",
       "      <td>...</td>\n",
       "      <td>...</td>\n",
       "      <td>...</td>\n",
       "      <td>...</td>\n",
       "      <td>...</td>\n",
       "      <td>...</td>\n",
       "      <td>...</td>\n",
       "      <td>...</td>\n",
       "      <td>...</td>\n",
       "      <td>...</td>\n",
       "      <td>...</td>\n",
       "      <td>...</td>\n",
       "      <td>...</td>\n",
       "      <td>...</td>\n",
       "      <td>...</td>\n",
       "    </tr>\n",
       "    <tr>\n",
       "      <th>590822</th>\n",
       "      <td>-0.243932</td>\n",
       "      <td>-0.380232</td>\n",
       "      <td>-0.044824</td>\n",
       "      <td>-0.582347</td>\n",
       "      <td>-0.05133</td>\n",
       "      <td>-0.312371</td>\n",
       "      <td>-0.169589</td>\n",
       "      <td>-0.301613</td>\n",
       "      <td>-0.248485</td>\n",
       "      <td>-1.004598</td>\n",
       "      <td>...</td>\n",
       "      <td>0</td>\n",
       "      <td>1</td>\n",
       "      <td>0</td>\n",
       "      <td>0</td>\n",
       "      <td>0</td>\n",
       "      <td>0</td>\n",
       "      <td>0</td>\n",
       "      <td>0</td>\n",
       "      <td>0</td>\n",
       "      <td>0</td>\n",
       "    </tr>\n",
       "    <tr>\n",
       "      <th>590823</th>\n",
       "      <td>-0.243932</td>\n",
       "      <td>-0.380232</td>\n",
       "      <td>-0.044824</td>\n",
       "      <td>-0.582347</td>\n",
       "      <td>-0.05133</td>\n",
       "      <td>-0.312371</td>\n",
       "      <td>-0.169589</td>\n",
       "      <td>1.927086</td>\n",
       "      <td>2.804227</td>\n",
       "      <td>-1.004598</td>\n",
       "      <td>...</td>\n",
       "      <td>0</td>\n",
       "      <td>1</td>\n",
       "      <td>0</td>\n",
       "      <td>0</td>\n",
       "      <td>0</td>\n",
       "      <td>0</td>\n",
       "      <td>0</td>\n",
       "      <td>0</td>\n",
       "      <td>0</td>\n",
       "      <td>0</td>\n",
       "    </tr>\n",
       "    <tr>\n",
       "      <th>590825</th>\n",
       "      <td>-0.243932</td>\n",
       "      <td>0.019401</td>\n",
       "      <td>-0.044824</td>\n",
       "      <td>0.119528</td>\n",
       "      <td>-0.05133</td>\n",
       "      <td>-0.312371</td>\n",
       "      <td>-0.169589</td>\n",
       "      <td>0.843853</td>\n",
       "      <td>0.113815</td>\n",
       "      <td>0.135764</td>\n",
       "      <td>...</td>\n",
       "      <td>0</td>\n",
       "      <td>0</td>\n",
       "      <td>0</td>\n",
       "      <td>0</td>\n",
       "      <td>0</td>\n",
       "      <td>0</td>\n",
       "      <td>0</td>\n",
       "      <td>1</td>\n",
       "      <td>0</td>\n",
       "      <td>0</td>\n",
       "    </tr>\n",
       "    <tr>\n",
       "      <th>590826</th>\n",
       "      <td>-0.243932</td>\n",
       "      <td>-0.380232</td>\n",
       "      <td>-0.044824</td>\n",
       "      <td>-0.582347</td>\n",
       "      <td>-0.05133</td>\n",
       "      <td>-0.312371</td>\n",
       "      <td>-0.169589</td>\n",
       "      <td>-0.288932</td>\n",
       "      <td>3.034981</td>\n",
       "      <td>-1.004598</td>\n",
       "      <td>...</td>\n",
       "      <td>0</td>\n",
       "      <td>0</td>\n",
       "      <td>0</td>\n",
       "      <td>0</td>\n",
       "      <td>0</td>\n",
       "      <td>0</td>\n",
       "      <td>0</td>\n",
       "      <td>0</td>\n",
       "      <td>0</td>\n",
       "      <td>1</td>\n",
       "    </tr>\n",
       "    <tr>\n",
       "      <th>590828</th>\n",
       "      <td>-0.243932</td>\n",
       "      <td>-0.380232</td>\n",
       "      <td>-0.044824</td>\n",
       "      <td>-0.582347</td>\n",
       "      <td>-0.05133</td>\n",
       "      <td>-0.294876</td>\n",
       "      <td>-0.169589</td>\n",
       "      <td>-0.292957</td>\n",
       "      <td>-0.248485</td>\n",
       "      <td>-1.004598</td>\n",
       "      <td>...</td>\n",
       "      <td>0</td>\n",
       "      <td>0</td>\n",
       "      <td>0</td>\n",
       "      <td>0</td>\n",
       "      <td>0</td>\n",
       "      <td>0</td>\n",
       "      <td>0</td>\n",
       "      <td>1</td>\n",
       "      <td>0</td>\n",
       "      <td>0</td>\n",
       "    </tr>\n",
       "  </tbody>\n",
       "</table>\n",
       "<p>355190 rows × 234 columns</p>\n",
       "</div>\n",
       "      <button class=\"colab-df-convert\" onclick=\"convertToInteractive('df-7e5ed12c-e077-4ac9-87e0-a56322d20826')\"\n",
       "              title=\"Convert this dataframe to an interactive table.\"\n",
       "              style=\"display:none;\">\n",
       "        \n",
       "  <svg xmlns=\"http://www.w3.org/2000/svg\" height=\"24px\"viewBox=\"0 0 24 24\"\n",
       "       width=\"24px\">\n",
       "    <path d=\"M0 0h24v24H0V0z\" fill=\"none\"/>\n",
       "    <path d=\"M18.56 5.44l.94 2.06.94-2.06 2.06-.94-2.06-.94-.94-2.06-.94 2.06-2.06.94zm-11 1L8.5 8.5l.94-2.06 2.06-.94-2.06-.94L8.5 2.5l-.94 2.06-2.06.94zm10 10l.94 2.06.94-2.06 2.06-.94-2.06-.94-.94-2.06-.94 2.06-2.06.94z\"/><path d=\"M17.41 7.96l-1.37-1.37c-.4-.4-.92-.59-1.43-.59-.52 0-1.04.2-1.43.59L10.3 9.45l-7.72 7.72c-.78.78-.78 2.05 0 2.83L4 21.41c.39.39.9.59 1.41.59.51 0 1.02-.2 1.41-.59l7.78-7.78 2.81-2.81c.8-.78.8-2.07 0-2.86zM5.41 20L4 18.59l7.72-7.72 1.47 1.35L5.41 20z\"/>\n",
       "  </svg>\n",
       "      </button>\n",
       "      \n",
       "  <style>\n",
       "    .colab-df-container {\n",
       "      display:flex;\n",
       "      flex-wrap:wrap;\n",
       "      gap: 12px;\n",
       "    }\n",
       "\n",
       "    .colab-df-convert {\n",
       "      background-color: #E8F0FE;\n",
       "      border: none;\n",
       "      border-radius: 50%;\n",
       "      cursor: pointer;\n",
       "      display: none;\n",
       "      fill: #1967D2;\n",
       "      height: 32px;\n",
       "      padding: 0 0 0 0;\n",
       "      width: 32px;\n",
       "    }\n",
       "\n",
       "    .colab-df-convert:hover {\n",
       "      background-color: #E2EBFA;\n",
       "      box-shadow: 0px 1px 2px rgba(60, 64, 67, 0.3), 0px 1px 3px 1px rgba(60, 64, 67, 0.15);\n",
       "      fill: #174EA6;\n",
       "    }\n",
       "\n",
       "    [theme=dark] .colab-df-convert {\n",
       "      background-color: #3B4455;\n",
       "      fill: #D2E3FC;\n",
       "    }\n",
       "\n",
       "    [theme=dark] .colab-df-convert:hover {\n",
       "      background-color: #434B5C;\n",
       "      box-shadow: 0px 1px 3px 1px rgba(0, 0, 0, 0.15);\n",
       "      filter: drop-shadow(0px 1px 2px rgba(0, 0, 0, 0.3));\n",
       "      fill: #FFFFFF;\n",
       "    }\n",
       "  </style>\n",
       "\n",
       "      <script>\n",
       "        const buttonEl =\n",
       "          document.querySelector('#df-7e5ed12c-e077-4ac9-87e0-a56322d20826 button.colab-df-convert');\n",
       "        buttonEl.style.display =\n",
       "          google.colab.kernel.accessAllowed ? 'block' : 'none';\n",
       "\n",
       "        async function convertToInteractive(key) {\n",
       "          const element = document.querySelector('#df-7e5ed12c-e077-4ac9-87e0-a56322d20826');\n",
       "          const dataTable =\n",
       "            await google.colab.kernel.invokeFunction('convertToInteractive',\n",
       "                                                     [key], {});\n",
       "          if (!dataTable) return;\n",
       "\n",
       "          const docLinkHtml = 'Like what you see? Visit the ' +\n",
       "            '<a target=\"_blank\" href=https://colab.research.google.com/notebooks/data_table.ipynb>data table notebook</a>'\n",
       "            + ' to learn more about interactive tables.';\n",
       "          element.innerHTML = '';\n",
       "          dataTable['output_type'] = 'display_data';\n",
       "          await google.colab.output.renderOutput(dataTable, element);\n",
       "          const docLink = document.createElement('div');\n",
       "          docLink.innerHTML = docLinkHtml;\n",
       "          element.appendChild(docLink);\n",
       "        }\n",
       "      </script>\n",
       "    </div>\n",
       "  </div>\n",
       "  "
      ],
      "text/plain": [
       "        CR_PROD_CNT_IL  AMOUNT_RUB_CLO_PRC  TURNOVER_DYNAMIC_IL_1M  \\\n",
       "ID                                                                   \n",
       "146841       -0.243932           -0.380232               -0.044824   \n",
       "146842       -0.243932            0.016835               -0.044824   \n",
       "146843       -0.243932           -0.313313               -0.044824   \n",
       "146844       -0.243932           -0.380232               -0.044824   \n",
       "146845       -0.243932           -0.380232               -0.044824   \n",
       "...                ...                 ...                     ...   \n",
       "590822       -0.243932           -0.380232               -0.044824   \n",
       "590823       -0.243932           -0.380232               -0.044824   \n",
       "590825       -0.243932            0.019401               -0.044824   \n",
       "590826       -0.243932           -0.380232               -0.044824   \n",
       "590828       -0.243932           -0.380232               -0.044824   \n",
       "\n",
       "        AMOUNT_RUB_SUP_PRC  REST_DYNAMIC_FDEP_1M  REST_DYNAMIC_SAVE_3M  \\\n",
       "ID                                                                       \n",
       "146841           -0.582347              -0.05133              2.356500   \n",
       "146842            1.221828              -0.05133             -0.312371   \n",
       "146843           -0.582347              -0.05133             -0.312371   \n",
       "146844           -0.582347              -0.05133             -0.283428   \n",
       "146845           -0.582347              -0.05133             -0.312371   \n",
       "...                    ...                   ...                   ...   \n",
       "590822           -0.582347              -0.05133             -0.312371   \n",
       "590823           -0.582347              -0.05133             -0.312371   \n",
       "590825            0.119528              -0.05133             -0.312371   \n",
       "590826           -0.582347              -0.05133             -0.312371   \n",
       "590828           -0.582347              -0.05133             -0.294876   \n",
       "\n",
       "        CR_PROD_CNT_VCU  REST_AVG_CUR  AMOUNT_RUB_NAS_PRC  \\\n",
       "ID                                                          \n",
       "146841        -0.169589      0.477531           -0.248485   \n",
       "146842        -0.169589     -0.330458           -0.248485   \n",
       "146843        -0.169589      0.247411           -0.248485   \n",
       "146844        -0.169589     -0.124857           -0.248485   \n",
       "146845        -0.169589      0.029532           -0.248485   \n",
       "...                 ...           ...                 ...   \n",
       "590822        -0.169589     -0.301613           -0.248485   \n",
       "590823        -0.169589      1.927086            2.804227   \n",
       "590825        -0.169589      0.843853            0.113815   \n",
       "590826        -0.169589     -0.288932            3.034981   \n",
       "590828        -0.169589     -0.292957           -0.248485   \n",
       "\n",
       "        TRANS_COUNT_SUP_PRC  ...  PACK_103  PACK_104  PACK_105  PACK_107  \\\n",
       "ID                           ...                                           \n",
       "146841            -1.004598  ...         0         0         0         0   \n",
       "146842             1.446347  ...         0         0         0         0   \n",
       "146843            -1.004598  ...         0         0         0         0   \n",
       "146844            -1.004598  ...         0         0         0         0   \n",
       "146845            -1.004598  ...         0         0         0         0   \n",
       "...                     ...  ...       ...       ...       ...       ...   \n",
       "590822            -1.004598  ...         0         1         0         0   \n",
       "590823            -1.004598  ...         0         1         0         0   \n",
       "590825             0.135764  ...         0         0         0         0   \n",
       "590826            -1.004598  ...         0         0         0         0   \n",
       "590828            -1.004598  ...         0         0         0         0   \n",
       "\n",
       "        PACK_108  PACK_109  PACK_301  PACK_k01  PACK_m01  PACK_o01  \n",
       "ID                                                                  \n",
       "146841         0         0         0         1         0         0  \n",
       "146842         0         0         0         0         0         0  \n",
       "146843         0         0         0         0         0         0  \n",
       "146844         0         0         0         1         0         0  \n",
       "146845         0         0         0         0         0         0  \n",
       "...          ...       ...       ...       ...       ...       ...  \n",
       "590822         0         0         0         0         0         0  \n",
       "590823         0         0         0         0         0         0  \n",
       "590825         0         0         0         1         0         0  \n",
       "590826         0         0         0         0         0         1  \n",
       "590828         0         0         0         1         0         0  \n",
       "\n",
       "[355190 rows x 234 columns]"
      ]
     },
     "execution_count": 3,
     "metadata": {},
     "output_type": "execute_result"
    }
   ],
   "source": [
    "df = pd.read_csv('/content/drive/MyDrive/datasets/BankChurn/bank_data_without_jobs.csv',\n",
    "                 index_col='ID'); df"
   ]
  },
  {
   "cell_type": "code",
   "execution_count": 4,
   "metadata": {
    "executionInfo": {
     "elapsed": 379,
     "status": "ok",
     "timestamp": 1667227192588,
     "user": {
      "displayName": "Denis Kazakov",
      "userId": "06041907226919027280"
     },
     "user_tz": -180
    },
    "id": "9MJjOBJUQgcm"
   },
   "outputs": [],
   "source": [
    "X = df.drop(columns = 'TARGET')"
   ]
  },
  {
   "cell_type": "code",
   "execution_count": 5,
   "metadata": {
    "executionInfo": {
     "elapsed": 6,
     "status": "ok",
     "timestamp": 1667227192590,
     "user": {
      "displayName": "Denis Kazakov",
      "userId": "06041907226919027280"
     },
     "user_tz": -180
    },
    "id": "pBFQujxdQgPH"
   },
   "outputs": [],
   "source": [
    "y = df.TARGET"
   ]
  },
  {
   "cell_type": "code",
   "execution_count": 6,
   "metadata": {
    "executionInfo": {
     "elapsed": 1167,
     "status": "ok",
     "timestamp": 1667227193752,
     "user": {
      "displayName": "Denis Kazakov",
      "userId": "06041907226919027280"
     },
     "user_tz": -180
    },
    "id": "VDGy5kDlRxIK"
   },
   "outputs": [],
   "source": [
    "X_train, X_test, y_train, y_test = train_test_split(X, y, \n",
    "                                                    test_size=0.33,\n",
    "                                                    random_state=8,\n",
    "                                                   shuffle=True,\n",
    "                                                   stratify=y)"
   ]
  },
  {
   "cell_type": "markdown",
   "metadata": {
    "id": "wLPrUJQfd10_"
   },
   "source": [
    "Class weight calculation"
   ]
  },
  {
   "cell_type": "code",
   "execution_count": 7,
   "metadata": {
    "colab": {
     "base_uri": "https://localhost:8080/"
    },
    "executionInfo": {
     "elapsed": 10,
     "status": "ok",
     "timestamp": 1667227193753,
     "user": {
      "displayName": "Denis Kazakov",
      "userId": "06041907226919027280"
     },
     "user_tz": -180
    },
    "id": "41dI37Bpdsna",
    "outputId": "4dff34aa-701d-4bdd-ead6-7a3611834d50"
   },
   "outputs": [
    {
     "data": {
      "text/plain": [
       "{0: 0.08143528815563505, 1: 0.918564711844365}"
      ]
     },
     "execution_count": 7,
     "metadata": {},
     "output_type": "execute_result"
    }
   ],
   "source": [
    "class_weights = (1 - y.value_counts(normalize=True)).to_dict()\n",
    "class_weights"
   ]
  },
  {
   "cell_type": "markdown",
   "metadata": {
    "id": "DJ0UsDFOkTzk"
   },
   "source": [
    "Initial bias"
   ]
  },
  {
   "cell_type": "code",
   "execution_count": 15,
   "metadata": {
    "executionInfo": {
     "elapsed": 4,
     "status": "ok",
     "timestamp": 1667228806595,
     "user": {
      "displayName": "Denis Kazakov",
      "userId": "06041907226919027280"
     },
     "user_tz": -180
    },
    "id": "Srwtyh1EkZia"
   },
   "outputs": [],
   "source": [
    "neg = y.value_counts()[0]\n",
    "pos = y.value_counts()[1]"
   ]
  },
  {
   "cell_type": "code",
   "execution_count": 16,
   "metadata": {
    "colab": {
     "base_uri": "https://localhost:8080/"
    },
    "executionInfo": {
     "elapsed": 6,
     "status": "ok",
     "timestamp": 1667228823569,
     "user": {
      "displayName": "Denis Kazakov",
      "userId": "06041907226919027280"
     },
     "user_tz": -180
    },
    "id": "ZepBkHqzlAND",
    "outputId": "2728cdec-80e4-4c34-ad1c-7c8ad291262d"
   },
   "outputs": [
    {
     "data": {
      "text/plain": [
       "array([-2.42300366])"
      ]
     },
     "execution_count": 16,
     "metadata": {},
     "output_type": "execute_result"
    }
   ],
   "source": [
    "initial_bias = np.log([pos/neg])\n",
    "initial_bias"
   ]
  },
  {
   "cell_type": "code",
   "execution_count": 17,
   "metadata": {
    "executionInfo": {
     "elapsed": 470,
     "status": "ok",
     "timestamp": 1667228999956,
     "user": {
      "displayName": "Denis Kazakov",
      "userId": "06041907226919027280"
     },
     "user_tz": -180
    },
    "id": "rLUobprel5cR"
   },
   "outputs": [],
   "source": [
    "output_bias = tf.keras.initializers.Constant(initial_bias)"
   ]
  },
  {
   "cell_type": "code",
   "execution_count": 19,
   "metadata": {
    "executionInfo": {
     "elapsed": 266,
     "status": "ok",
     "timestamp": 1667229155849,
     "user": {
      "displayName": "Denis Kazakov",
      "userId": "06041907226919027280"
     },
     "user_tz": -180
    },
    "id": "toy_7V-5mXIm"
   },
   "outputs": [],
   "source": [
    "metrics = [\n",
    "      tf.keras.metrics.BinaryAccuracy(name='accuracy'),\n",
    "      tf.keras.metrics.Precision(name='precision'),\n",
    "      tf.keras.metrics.Recall(name='recall'),\n",
    "      tf.keras.metrics.AUC(name='auc'),\n",
    "]"
   ]
  },
  {
   "cell_type": "code",
   "execution_count": 20,
   "metadata": {
    "executionInfo": {
     "elapsed": 234,
     "status": "ok",
     "timestamp": 1667229222154,
     "user": {
      "displayName": "Denis Kazakov",
      "userId": "06041907226919027280"
     },
     "user_tz": -180
    },
    "id": "oX12mWW7RxCy"
   },
   "outputs": [],
   "source": [
    "model = tf.keras.Sequential([\n",
    "    tf.keras.layers.Dense(64, activation='relu'),\n",
    "    tf.keras.layers.Dropout(0.2),\n",
    "    tf.keras.layers.Dense(16, activation='relu'),\n",
    "    tf.keras.layers.Dropout(0.2),\n",
    "    tf.keras.layers.Dense(1, activation='sigmoid', \n",
    "                          bias_initializer=output_bias),\n",
    "\n",
    "]) \n"
   ]
  },
  {
   "cell_type": "code",
   "execution_count": 21,
   "metadata": {
    "executionInfo": {
     "elapsed": 253,
     "status": "ok",
     "timestamp": 1667229242621,
     "user": {
      "displayName": "Denis Kazakov",
      "userId": "06041907226919027280"
     },
     "user_tz": -180
    },
    "id": "yK2hKj5MVzn0"
   },
   "outputs": [],
   "source": [
    "model.compile(loss=tf.keras.losses.BinaryCrossentropy(),\n",
    "              optimizer='adam',\n",
    "              metrics=metrics)"
   ]
  },
  {
   "cell_type": "code",
   "execution_count": 22,
   "metadata": {
    "colab": {
     "base_uri": "https://localhost:8080/"
    },
    "executionInfo": {
     "elapsed": 983680,
     "status": "ok",
     "timestamp": 1667230232151,
     "user": {
      "displayName": "Denis Kazakov",
      "userId": "06041907226919027280"
     },
     "user_tz": -180
    },
    "id": "XlZL7fhjcR3F",
    "outputId": "3ec2aac0-a35c-42d8-e715-9d35fe4ace3f"
   },
   "outputs": [
    {
     "name": "stdout",
     "output_type": "stream",
     "text": [
      "Epoch 1/30\n",
      "4983/4983 [==============================] - 34s 7ms/step - loss: 0.0962 - accuracy: 0.6947 - precision: 0.1508 - recall: 0.5882 - auc: 0.7066 - val_loss: 0.5659 - val_accuracy: 0.6961 - val_precision: 0.1705 - val_recall: 0.7203 - val_auc: 0.7763\n",
      "Epoch 2/30\n",
      "4983/4983 [==============================] - 32s 6ms/step - loss: 0.0880 - accuracy: 0.6914 - precision: 0.1645 - recall: 0.6776 - auc: 0.7554 - val_loss: 0.5505 - val_accuracy: 0.7075 - val_precision: 0.1769 - val_recall: 0.7235 - val_auc: 0.7888\n",
      "Epoch 3/30\n",
      "4983/4983 [==============================] - 31s 6ms/step - loss: 0.0851 - accuracy: 0.6908 - precision: 0.1697 - recall: 0.7118 - auc: 0.7725 - val_loss: 0.5866 - val_accuracy: 0.6495 - val_precision: 0.1608 - val_recall: 0.7975 - val_auc: 0.7912\n",
      "Epoch 4/30\n",
      "4983/4983 [==============================] - 31s 6ms/step - loss: 0.0833 - accuracy: 0.6829 - precision: 0.1708 - recall: 0.7436 - auc: 0.7827 - val_loss: 0.5562 - val_accuracy: 0.6658 - val_precision: 0.1661 - val_recall: 0.7860 - val_auc: 0.7980\n",
      "Epoch 5/30\n",
      "4983/4983 [==============================] - 31s 6ms/step - loss: 0.0818 - accuracy: 0.6765 - precision: 0.1706 - recall: 0.7627 - auc: 0.7913 - val_loss: 0.5773 - val_accuracy: 0.6367 - val_precision: 0.1595 - val_recall: 0.8251 - val_auc: 0.8002\n",
      "Epoch 6/30\n",
      "4983/4983 [==============================] - 33s 7ms/step - loss: 0.0807 - accuracy: 0.6705 - precision: 0.1714 - recall: 0.7873 - auc: 0.7968 - val_loss: 0.5889 - val_accuracy: 0.6328 - val_precision: 0.1587 - val_recall: 0.8305 - val_auc: 0.8014\n",
      "Epoch 7/30\n",
      "4983/4983 [==============================] - 33s 7ms/step - loss: 0.0797 - accuracy: 0.6703 - precision: 0.1734 - recall: 0.8023 - auc: 0.8028 - val_loss: 0.5508 - val_accuracy: 0.6402 - val_precision: 0.1608 - val_recall: 0.8253 - val_auc: 0.8028\n",
      "Epoch 8/30\n",
      "4983/4983 [==============================] - 32s 6ms/step - loss: 0.0792 - accuracy: 0.6617 - precision: 0.1714 - recall: 0.8154 - auc: 0.8041 - val_loss: 0.5164 - val_accuracy: 0.6679 - val_precision: 0.1680 - val_recall: 0.7932 - val_auc: 0.8007\n",
      "Epoch 9/30\n",
      "4983/4983 [==============================] - 31s 6ms/step - loss: 0.0786 - accuracy: 0.6596 - precision: 0.1716 - recall: 0.8231 - auc: 0.8082 - val_loss: 0.5319 - val_accuracy: 0.6531 - val_precision: 0.1641 - val_recall: 0.8107 - val_auc: 0.8038\n",
      "Epoch 10/30\n",
      "4983/4983 [==============================] - 31s 6ms/step - loss: 0.0779 - accuracy: 0.6563 - precision: 0.1712 - recall: 0.8313 - auc: 0.8110 - val_loss: 0.5392 - val_accuracy: 0.6389 - val_precision: 0.1604 - val_recall: 0.8256 - val_auc: 0.8031\n",
      "Epoch 11/30\n",
      "4983/4983 [==============================] - 31s 6ms/step - loss: 0.0773 - accuracy: 0.6558 - precision: 0.1723 - recall: 0.8407 - auc: 0.8144 - val_loss: 0.5285 - val_accuracy: 0.6429 - val_precision: 0.1619 - val_recall: 0.8250 - val_auc: 0.8014\n",
      "Epoch 12/30\n",
      "4983/4983 [==============================] - 31s 6ms/step - loss: 0.0774 - accuracy: 0.6559 - precision: 0.1725 - recall: 0.8418 - auc: 0.8143 - val_loss: 0.5324 - val_accuracy: 0.6441 - val_precision: 0.1612 - val_recall: 0.8162 - val_auc: 0.8020\n",
      "Epoch 13/30\n",
      "4983/4983 [==============================] - 31s 6ms/step - loss: 0.0770 - accuracy: 0.6576 - precision: 0.1734 - recall: 0.8434 - auc: 0.8168 - val_loss: 0.5358 - val_accuracy: 0.6395 - val_precision: 0.1602 - val_recall: 0.8223 - val_auc: 0.8021\n",
      "Epoch 14/30\n",
      "4983/4983 [==============================] - 31s 6ms/step - loss: 0.0767 - accuracy: 0.6570 - precision: 0.1737 - recall: 0.8471 - auc: 0.8185 - val_loss: 0.5416 - val_accuracy: 0.6395 - val_precision: 0.1601 - val_recall: 0.8218 - val_auc: 0.8020\n",
      "Epoch 15/30\n",
      "4983/4983 [==============================] - 32s 6ms/step - loss: 0.0764 - accuracy: 0.6603 - precision: 0.1754 - recall: 0.8491 - auc: 0.8199 - val_loss: 0.5440 - val_accuracy: 0.6201 - val_precision: 0.1562 - val_recall: 0.8478 - val_auc: 0.8037\n",
      "Epoch 16/30\n",
      "4983/4983 [==============================] - 33s 7ms/step - loss: 0.0759 - accuracy: 0.6557 - precision: 0.1745 - recall: 0.8577 - auc: 0.8222 - val_loss: 0.5528 - val_accuracy: 0.6348 - val_precision: 0.1605 - val_recall: 0.8388 - val_auc: 0.8042\n",
      "Epoch 17/30\n",
      "4983/4983 [==============================] - 31s 6ms/step - loss: 0.0758 - accuracy: 0.6540 - precision: 0.1737 - recall: 0.8570 - auc: 0.8219 - val_loss: 0.5309 - val_accuracy: 0.6551 - val_precision: 0.1652 - val_recall: 0.8129 - val_auc: 0.8031\n",
      "Epoch 18/30\n",
      "4983/4983 [==============================] - 31s 6ms/step - loss: 0.0754 - accuracy: 0.6564 - precision: 0.1751 - recall: 0.8599 - auc: 0.8241 - val_loss: 0.5026 - val_accuracy: 0.6632 - val_precision: 0.1678 - val_recall: 0.8067 - val_auc: 0.8038\n",
      "Epoch 19/30\n",
      "4983/4983 [==============================] - 31s 6ms/step - loss: 0.0758 - accuracy: 0.6554 - precision: 0.1740 - recall: 0.8545 - auc: 0.8230 - val_loss: 0.5177 - val_accuracy: 0.6615 - val_precision: 0.1666 - val_recall: 0.8034 - val_auc: 0.8028\n",
      "Epoch 20/30\n",
      "4983/4983 [==============================] - 31s 6ms/step - loss: 0.0755 - accuracy: 0.6610 - precision: 0.1766 - recall: 0.8560 - auc: 0.8247 - val_loss: 0.5270 - val_accuracy: 0.6520 - val_precision: 0.1639 - val_recall: 0.8126 - val_auc: 0.8027\n",
      "Epoch 21/30\n",
      "4983/4983 [==============================] - 31s 6ms/step - loss: 0.0751 - accuracy: 0.6576 - precision: 0.1756 - recall: 0.8592 - auc: 0.8262 - val_loss: 0.5591 - val_accuracy: 0.6296 - val_precision: 0.1586 - val_recall: 0.8386 - val_auc: 0.8028\n",
      "Epoch 22/30\n",
      "4983/4983 [==============================] - 31s 6ms/step - loss: 0.0751 - accuracy: 0.6538 - precision: 0.1744 - recall: 0.8633 - auc: 0.8263 - val_loss: 0.5154 - val_accuracy: 0.6522 - val_precision: 0.1636 - val_recall: 0.8096 - val_auc: 0.8011\n",
      "Epoch 23/30\n",
      "4983/4983 [==============================] - 33s 7ms/step - loss: 0.0748 - accuracy: 0.6603 - precision: 0.1768 - recall: 0.8597 - auc: 0.8281 - val_loss: 0.5494 - val_accuracy: 0.6220 - val_precision: 0.1556 - val_recall: 0.8370 - val_auc: 0.7995\n",
      "Epoch 24/30\n",
      "4983/4983 [==============================] - 33s 7ms/step - loss: 0.0747 - accuracy: 0.6649 - precision: 0.1790 - recall: 0.8610 - auc: 0.8289 - val_loss: 0.5304 - val_accuracy: 0.6455 - val_precision: 0.1617 - val_recall: 0.8161 - val_auc: 0.8000\n",
      "Epoch 25/30\n",
      "4983/4983 [==============================] - 34s 7ms/step - loss: 0.0747 - accuracy: 0.6665 - precision: 0.1793 - recall: 0.8576 - auc: 0.8293 - val_loss: 0.5388 - val_accuracy: 0.6387 - val_precision: 0.1602 - val_recall: 0.8246 - val_auc: 0.7993\n",
      "Epoch 26/30\n",
      "4983/4983 [==============================] - 31s 6ms/step - loss: 0.0743 - accuracy: 0.6657 - precision: 0.1796 - recall: 0.8626 - auc: 0.8300 - val_loss: 0.4980 - val_accuracy: 0.6647 - val_precision: 0.1674 - val_recall: 0.7991 - val_auc: 0.8004\n",
      "Epoch 27/30\n",
      "4983/4983 [==============================] - 31s 6ms/step - loss: 0.0742 - accuracy: 0.6684 - precision: 0.1806 - recall: 0.8606 - auc: 0.8314 - val_loss: 0.5433 - val_accuracy: 0.6325 - val_precision: 0.1582 - val_recall: 0.8275 - val_auc: 0.8015\n",
      "Epoch 28/30\n",
      "4983/4983 [==============================] - 34s 7ms/step - loss: 0.0742 - accuracy: 0.6666 - precision: 0.1799 - recall: 0.8615 - auc: 0.8320 - val_loss: 0.5226 - val_accuracy: 0.6556 - val_precision: 0.1647 - val_recall: 0.8072 - val_auc: 0.8005\n",
      "Epoch 29/30\n",
      "4983/4983 [==============================] - 31s 6ms/step - loss: 0.0742 - accuracy: 0.6672 - precision: 0.1805 - recall: 0.8640 - auc: 0.8318 - val_loss: 0.4870 - val_accuracy: 0.6722 - val_precision: 0.1692 - val_recall: 0.7885 - val_auc: 0.7992\n",
      "Epoch 30/30\n",
      "4983/4983 [==============================] - 31s 6ms/step - loss: 0.0742 - accuracy: 0.6659 - precision: 0.1798 - recall: 0.8630 - auc: 0.8312 - val_loss: 0.5298 - val_accuracy: 0.6449 - val_precision: 0.1608 - val_recall: 0.8108 - val_auc: 0.7974\n"
     ]
    }
   ],
   "source": [
    "history = model.fit(\n",
    "   x=X_train,\n",
    "   y=y_train,\n",
    "   epochs=30,\n",
    "   validation_split=0.33,\n",
    "   class_weight=class_weights\n",
    ")"
   ]
  },
  {
   "cell_type": "code",
   "execution_count": 27,
   "metadata": {
    "colab": {
     "base_uri": "https://localhost:8080/"
    },
    "executionInfo": {
     "elapsed": 21412,
     "status": "ok",
     "timestamp": 1667230650878,
     "user": {
      "displayName": "Denis Kazakov",
      "userId": "06041907226919027280"
     },
     "user_tz": -180
    },
    "id": "zyz7A43ZcRoO",
    "outputId": "b065bd98-3d1f-4fc9-ac30-9fa171532c3c"
   },
   "outputs": [
    {
     "name": "stdout",
     "output_type": "stream",
     "text": [
      "3663/3663 [==============================] - 14s 4ms/step - loss: 0.5336 - accuracy: 0.6438 - precision: 0.1619 - recall: 0.8081 - auc: 0.7916\n"
     ]
    },
    {
     "data": {
      "text/plain": [
       "[0.533601701259613,\n",
       " 0.6438364386558533,\n",
       " 0.16194255650043488,\n",
       " 0.8080670237541199,\n",
       " 0.7915567755699158]"
      ]
     },
     "execution_count": 27,
     "metadata": {},
     "output_type": "execute_result"
    }
   ],
   "source": [
    "model.evaluate(X_test, y_test)"
   ]
  },
  {
   "cell_type": "code",
   "execution_count": null,
   "metadata": {
    "executionInfo": {
     "elapsed": 19,
     "status": "aborted",
     "timestamp": 1667228479273,
     "user": {
      "displayName": "Denis Kazakov",
      "userId": "06041907226919027280"
     },
     "user_tz": -180
    },
    "id": "DERAALEAcRkf"
   },
   "outputs": [],
   "source": []
  }
 ],
 "metadata": {
  "accelerator": "GPU",
  "colab": {
   "authorship_tag": "ABX9TyOM6lMw4IFR6U3jJ+QLFcXp",
   "collapsed_sections": [],
   "provenance": []
  },
  "gpuClass": "standard",
  "kernelspec": {
   "display_name": "Python 3 (ipykernel)",
   "language": "python",
   "name": "python3"
  },
  "language_info": {
   "codemirror_mode": {
    "name": "ipython",
    "version": 3
   },
   "file_extension": ".py",
   "mimetype": "text/x-python",
   "name": "python",
   "nbconvert_exporter": "python",
   "pygments_lexer": "ipython3",
   "version": "3.8.5"
  }
 },
 "nbformat": 4,
 "nbformat_minor": 1
}
